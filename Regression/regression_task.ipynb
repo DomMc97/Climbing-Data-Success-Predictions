{
  "nbformat": 4,
  "nbformat_minor": 0,
  "metadata": {
    "colab": {
      "name": "regression_task.ipynb",
      "provenance": [],
      "authorship_tag": "ABX9TyOLOzBvDGoNhAdE05xdr8Hg",
      "include_colab_link": true
    },
    "kernelspec": {
      "name": "python3",
      "display_name": "Python 3"
    }
  },
  "cells": [
    {
      "cell_type": "markdown",
      "metadata": {
        "id": "view-in-github",
        "colab_type": "text"
      },
      "source": [
        "<a href=\"https://colab.research.google.com/github/DomMc97/Climbing_Data/blob/master/regression_task.ipynb\" target=\"_parent\"><img src=\"https://colab.research.google.com/assets/colab-badge.svg\" alt=\"Open In Colab\"/></a>"
      ]
    },
    {
      "cell_type": "markdown",
      "metadata": {
        "id": "adqFEHu758mk",
        "colab_type": "text"
      },
      "source": [
        "# Regression to Predict Success Percentage of an Ascent.\n",
        "\n",
        "A notebook which uses regression techniques to predict the 'Success Percentage' of an attempted climb of Mt. Rainier dependent on the four weather features ‘Temperature’, ‘Relative Humidity’, ‘Wind Speed Daily’ and ‘Solar Radiation’ as predictors.\n",
        "\n",
        "\n",
        "---\n",
        "\n",
        "\n",
        "\n"
      ]
    },
    {
      "cell_type": "markdown",
      "metadata": {
        "id": "79Djfn1f69bc",
        "colab_type": "text"
      },
      "source": [
        "## Set Up"
      ]
    },
    {
      "cell_type": "markdown",
      "metadata": {
        "id": "D_SRGbeg7D1W",
        "colab_type": "text"
      },
      "source": [
        "Import libraries."
      ]
    },
    {
      "cell_type": "code",
      "metadata": {
        "id": "ZHZgcnJo5F2F",
        "colab_type": "code",
        "colab": {
          "base_uri": "https://localhost:8080/",
          "height": 52
        },
        "outputId": "56f33002-28f7-4528-8a4f-e41406788b01"
      },
      "source": [
        "# scientific library\n",
        "import numpy as np\n",
        "\n",
        "# plotting libraries\n",
        "import matplotlib.pyplot as plt\n",
        "import seaborn as sns\n",
        "sns.set() #sets design of figures\n",
        "\n",
        "# data analytics library\n",
        "import pandas as pd\n",
        "\n",
        "# sklearn functions\n",
        "from sklearn.model_selection import train_test_split\n",
        "from sklearn.preprocessing import StandardScaler\n",
        "from sklearn.linear_model import LinearRegression, Ridge\n",
        "from sklearn import metrics\n",
        "\n",
        "# libraries for saving/loading data\n",
        "import pickle\n",
        "from google.colab import files"
      ],
      "execution_count": null,
      "outputs": [
        {
          "output_type": "stream",
          "text": [
            "/usr/local/lib/python3.6/dist-packages/statsmodels/tools/_testing.py:19: FutureWarning: pandas.util.testing is deprecated. Use the functions in the public API at pandas.testing instead.\n",
            "  import pandas.util.testing as tm\n"
          ],
          "name": "stderr"
        }
      ]
    },
    {
      "cell_type": "markdown",
      "metadata": {
        "id": "MpcDy3Qw-LXR",
        "colab_type": "text"
      },
      "source": [
        "Upload data."
      ]
    },
    {
      "cell_type": "code",
      "metadata": {
        "id": "G3SpNXDO-KMh",
        "colab_type": "code",
        "colab": {
          "resources": {
            "http://localhost:8080/nbextensions/google.colab/files.js": {
              "data": "Ly8gQ29weXJpZ2h0IDIwMTcgR29vZ2xlIExMQwovLwovLyBMaWNlbnNlZCB1bmRlciB0aGUgQXBhY2hlIExpY2Vuc2UsIFZlcnNpb24gMi4wICh0aGUgIkxpY2Vuc2UiKTsKLy8geW91IG1heSBub3QgdXNlIHRoaXMgZmlsZSBleGNlcHQgaW4gY29tcGxpYW5jZSB3aXRoIHRoZSBMaWNlbnNlLgovLyBZb3UgbWF5IG9idGFpbiBhIGNvcHkgb2YgdGhlIExpY2Vuc2UgYXQKLy8KLy8gICAgICBodHRwOi8vd3d3LmFwYWNoZS5vcmcvbGljZW5zZXMvTElDRU5TRS0yLjAKLy8KLy8gVW5sZXNzIHJlcXVpcmVkIGJ5IGFwcGxpY2FibGUgbGF3IG9yIGFncmVlZCB0byBpbiB3cml0aW5nLCBzb2Z0d2FyZQovLyBkaXN0cmlidXRlZCB1bmRlciB0aGUgTGljZW5zZSBpcyBkaXN0cmlidXRlZCBvbiBhbiAiQVMgSVMiIEJBU0lTLAovLyBXSVRIT1VUIFdBUlJBTlRJRVMgT1IgQ09ORElUSU9OUyBPRiBBTlkgS0lORCwgZWl0aGVyIGV4cHJlc3Mgb3IgaW1wbGllZC4KLy8gU2VlIHRoZSBMaWNlbnNlIGZvciB0aGUgc3BlY2lmaWMgbGFuZ3VhZ2UgZ292ZXJuaW5nIHBlcm1pc3Npb25zIGFuZAovLyBsaW1pdGF0aW9ucyB1bmRlciB0aGUgTGljZW5zZS4KCi8qKgogKiBAZmlsZW92ZXJ2aWV3IEhlbHBlcnMgZm9yIGdvb2dsZS5jb2xhYiBQeXRob24gbW9kdWxlLgogKi8KKGZ1bmN0aW9uKHNjb3BlKSB7CmZ1bmN0aW9uIHNwYW4odGV4dCwgc3R5bGVBdHRyaWJ1dGVzID0ge30pIHsKICBjb25zdCBlbGVtZW50ID0gZG9jdW1lbnQuY3JlYXRlRWxlbWVudCgnc3BhbicpOwogIGVsZW1lbnQudGV4dENvbnRlbnQgPSB0ZXh0OwogIGZvciAoY29uc3Qga2V5IG9mIE9iamVjdC5rZXlzKHN0eWxlQXR0cmlidXRlcykpIHsKICAgIGVsZW1lbnQuc3R5bGVba2V5XSA9IHN0eWxlQXR0cmlidXRlc1trZXldOwogIH0KICByZXR1cm4gZWxlbWVudDsKfQoKLy8gTWF4IG51bWJlciBvZiBieXRlcyB3aGljaCB3aWxsIGJlIHVwbG9hZGVkIGF0IGEgdGltZS4KY29uc3QgTUFYX1BBWUxPQURfU0laRSA9IDEwMCAqIDEwMjQ7CgpmdW5jdGlvbiBfdXBsb2FkRmlsZXMoaW5wdXRJZCwgb3V0cHV0SWQpIHsKICBjb25zdCBzdGVwcyA9IHVwbG9hZEZpbGVzU3RlcChpbnB1dElkLCBvdXRwdXRJZCk7CiAgY29uc3Qgb3V0cHV0RWxlbWVudCA9IGRvY3VtZW50LmdldEVsZW1lbnRCeUlkKG91dHB1dElkKTsKICAvLyBDYWNoZSBzdGVwcyBvbiB0aGUgb3V0cHV0RWxlbWVudCB0byBtYWtlIGl0IGF2YWlsYWJsZSBmb3IgdGhlIG5leHQgY2FsbAogIC8vIHRvIHVwbG9hZEZpbGVzQ29udGludWUgZnJvbSBQeXRob24uCiAgb3V0cHV0RWxlbWVudC5zdGVwcyA9IHN0ZXBzOwoKICByZXR1cm4gX3VwbG9hZEZpbGVzQ29udGludWUob3V0cHV0SWQpOwp9CgovLyBUaGlzIGlzIHJvdWdobHkgYW4gYXN5bmMgZ2VuZXJhdG9yIChub3Qgc3VwcG9ydGVkIGluIHRoZSBicm93c2VyIHlldCksCi8vIHdoZXJlIHRoZXJlIGFyZSBtdWx0aXBsZSBhc3luY2hyb25vdXMgc3RlcHMgYW5kIHRoZSBQeXRob24gc2lkZSBpcyBnb2luZwovLyB0byBwb2xsIGZvciBjb21wbGV0aW9uIG9mIGVhY2ggc3RlcC4KLy8gVGhpcyB1c2VzIGEgUHJvbWlzZSB0byBibG9jayB0aGUgcHl0aG9uIHNpZGUgb24gY29tcGxldGlvbiBvZiBlYWNoIHN0ZXAsCi8vIHRoZW4gcGFzc2VzIHRoZSByZXN1bHQgb2YgdGhlIHByZXZpb3VzIHN0ZXAgYXMgdGhlIGlucHV0IHRvIHRoZSBuZXh0IHN0ZXAuCmZ1bmN0aW9uIF91cGxvYWRGaWxlc0NvbnRpbnVlKG91dHB1dElkKSB7CiAgY29uc3Qgb3V0cHV0RWxlbWVudCA9IGRvY3VtZW50LmdldEVsZW1lbnRCeUlkKG91dHB1dElkKTsKICBjb25zdCBzdGVwcyA9IG91dHB1dEVsZW1lbnQuc3RlcHM7CgogIGNvbnN0IG5leHQgPSBzdGVwcy5uZXh0KG91dHB1dEVsZW1lbnQubGFzdFByb21pc2VWYWx1ZSk7CiAgcmV0dXJuIFByb21pc2UucmVzb2x2ZShuZXh0LnZhbHVlLnByb21pc2UpLnRoZW4oKHZhbHVlKSA9PiB7CiAgICAvLyBDYWNoZSB0aGUgbGFzdCBwcm9taXNlIHZhbHVlIHRvIG1ha2UgaXQgYXZhaWxhYmxlIHRvIHRoZSBuZXh0CiAgICAvLyBzdGVwIG9mIHRoZSBnZW5lcmF0b3IuCiAgICBvdXRwdXRFbGVtZW50Lmxhc3RQcm9taXNlVmFsdWUgPSB2YWx1ZTsKICAgIHJldHVybiBuZXh0LnZhbHVlLnJlc3BvbnNlOwogIH0pOwp9CgovKioKICogR2VuZXJhdG9yIGZ1bmN0aW9uIHdoaWNoIGlzIGNhbGxlZCBiZXR3ZWVuIGVhY2ggYXN5bmMgc3RlcCBvZiB0aGUgdXBsb2FkCiAqIHByb2Nlc3MuCiAqIEBwYXJhbSB7c3RyaW5nfSBpbnB1dElkIEVsZW1lbnQgSUQgb2YgdGhlIGlucHV0IGZpbGUgcGlja2VyIGVsZW1lbnQuCiAqIEBwYXJhbSB7c3RyaW5nfSBvdXRwdXRJZCBFbGVtZW50IElEIG9mIHRoZSBvdXRwdXQgZGlzcGxheS4KICogQHJldHVybiB7IUl0ZXJhYmxlPCFPYmplY3Q+fSBJdGVyYWJsZSBvZiBuZXh0IHN0ZXBzLgogKi8KZnVuY3Rpb24qIHVwbG9hZEZpbGVzU3RlcChpbnB1dElkLCBvdXRwdXRJZCkgewogIGNvbnN0IGlucHV0RWxlbWVudCA9IGRvY3VtZW50LmdldEVsZW1lbnRCeUlkKGlucHV0SWQpOwogIGlucHV0RWxlbWVudC5kaXNhYmxlZCA9IGZhbHNlOwoKICBjb25zdCBvdXRwdXRFbGVtZW50ID0gZG9jdW1lbnQuZ2V0RWxlbWVudEJ5SWQob3V0cHV0SWQpOwogIG91dHB1dEVsZW1lbnQuaW5uZXJIVE1MID0gJyc7CgogIGNvbnN0IHBpY2tlZFByb21pc2UgPSBuZXcgUHJvbWlzZSgocmVzb2x2ZSkgPT4gewogICAgaW5wdXRFbGVtZW50LmFkZEV2ZW50TGlzdGVuZXIoJ2NoYW5nZScsIChlKSA9PiB7CiAgICAgIHJlc29sdmUoZS50YXJnZXQuZmlsZXMpOwogICAgfSk7CiAgfSk7CgogIGNvbnN0IGNhbmNlbCA9IGRvY3VtZW50LmNyZWF0ZUVsZW1lbnQoJ2J1dHRvbicpOwogIGlucHV0RWxlbWVudC5wYXJlbnRFbGVtZW50LmFwcGVuZENoaWxkKGNhbmNlbCk7CiAgY2FuY2VsLnRleHRDb250ZW50ID0gJ0NhbmNlbCB1cGxvYWQnOwogIGNvbnN0IGNhbmNlbFByb21pc2UgPSBuZXcgUHJvbWlzZSgocmVzb2x2ZSkgPT4gewogICAgY2FuY2VsLm9uY2xpY2sgPSAoKSA9PiB7CiAgICAgIHJlc29sdmUobnVsbCk7CiAgICB9OwogIH0pOwoKICAvLyBXYWl0IGZvciB0aGUgdXNlciB0byBwaWNrIHRoZSBmaWxlcy4KICBjb25zdCBmaWxlcyA9IHlpZWxkIHsKICAgIHByb21pc2U6IFByb21pc2UucmFjZShbcGlja2VkUHJvbWlzZSwgY2FuY2VsUHJvbWlzZV0pLAogICAgcmVzcG9uc2U6IHsKICAgICAgYWN0aW9uOiAnc3RhcnRpbmcnLAogICAgfQogIH07CgogIGNhbmNlbC5yZW1vdmUoKTsKCiAgLy8gRGlzYWJsZSB0aGUgaW5wdXQgZWxlbWVudCBzaW5jZSBmdXJ0aGVyIHBpY2tzIGFyZSBub3QgYWxsb3dlZC4KICBpbnB1dEVsZW1lbnQuZGlzYWJsZWQgPSB0cnVlOwoKICBpZiAoIWZpbGVzKSB7CiAgICByZXR1cm4gewogICAgICByZXNwb25zZTogewogICAgICAgIGFjdGlvbjogJ2NvbXBsZXRlJywKICAgICAgfQogICAgfTsKICB9CgogIGZvciAoY29uc3QgZmlsZSBvZiBmaWxlcykgewogICAgY29uc3QgbGkgPSBkb2N1bWVudC5jcmVhdGVFbGVtZW50KCdsaScpOwogICAgbGkuYXBwZW5kKHNwYW4oZmlsZS5uYW1lLCB7Zm9udFdlaWdodDogJ2JvbGQnfSkpOwogICAgbGkuYXBwZW5kKHNwYW4oCiAgICAgICAgYCgke2ZpbGUudHlwZSB8fCAnbi9hJ30pIC0gJHtmaWxlLnNpemV9IGJ5dGVzLCBgICsKICAgICAgICBgbGFzdCBtb2RpZmllZDogJHsKICAgICAgICAgICAgZmlsZS5sYXN0TW9kaWZpZWREYXRlID8gZmlsZS5sYXN0TW9kaWZpZWREYXRlLnRvTG9jYWxlRGF0ZVN0cmluZygpIDoKICAgICAgICAgICAgICAgICAgICAgICAgICAgICAgICAgICAgJ24vYSd9IC0gYCkpOwogICAgY29uc3QgcGVyY2VudCA9IHNwYW4oJzAlIGRvbmUnKTsKICAgIGxpLmFwcGVuZENoaWxkKHBlcmNlbnQpOwoKICAgIG91dHB1dEVsZW1lbnQuYXBwZW5kQ2hpbGQobGkpOwoKICAgIGNvbnN0IGZpbGVEYXRhUHJvbWlzZSA9IG5ldyBQcm9taXNlKChyZXNvbHZlKSA9PiB7CiAgICAgIGNvbnN0IHJlYWRlciA9IG5ldyBGaWxlUmVhZGVyKCk7CiAgICAgIHJlYWRlci5vbmxvYWQgPSAoZSkgPT4gewogICAgICAgIHJlc29sdmUoZS50YXJnZXQucmVzdWx0KTsKICAgICAgfTsKICAgICAgcmVhZGVyLnJlYWRBc0FycmF5QnVmZmVyKGZpbGUpOwogICAgfSk7CiAgICAvLyBXYWl0IGZvciB0aGUgZGF0YSB0byBiZSByZWFkeS4KICAgIGxldCBmaWxlRGF0YSA9IHlpZWxkIHsKICAgICAgcHJvbWlzZTogZmlsZURhdGFQcm9taXNlLAogICAgICByZXNwb25zZTogewogICAgICAgIGFjdGlvbjogJ2NvbnRpbnVlJywKICAgICAgfQogICAgfTsKCiAgICAvLyBVc2UgYSBjaHVua2VkIHNlbmRpbmcgdG8gYXZvaWQgbWVzc2FnZSBzaXplIGxpbWl0cy4gU2VlIGIvNjIxMTU2NjAuCiAgICBsZXQgcG9zaXRpb24gPSAwOwogICAgd2hpbGUgKHBvc2l0aW9uIDwgZmlsZURhdGEuYnl0ZUxlbmd0aCkgewogICAgICBjb25zdCBsZW5ndGggPSBNYXRoLm1pbihmaWxlRGF0YS5ieXRlTGVuZ3RoIC0gcG9zaXRpb24sIE1BWF9QQVlMT0FEX1NJWkUpOwogICAgICBjb25zdCBjaHVuayA9IG5ldyBVaW50OEFycmF5KGZpbGVEYXRhLCBwb3NpdGlvbiwgbGVuZ3RoKTsKICAgICAgcG9zaXRpb24gKz0gbGVuZ3RoOwoKICAgICAgY29uc3QgYmFzZTY0ID0gYnRvYShTdHJpbmcuZnJvbUNoYXJDb2RlLmFwcGx5KG51bGwsIGNodW5rKSk7CiAgICAgIHlpZWxkIHsKICAgICAgICByZXNwb25zZTogewogICAgICAgICAgYWN0aW9uOiAnYXBwZW5kJywKICAgICAgICAgIGZpbGU6IGZpbGUubmFtZSwKICAgICAgICAgIGRhdGE6IGJhc2U2NCwKICAgICAgICB9LAogICAgICB9OwogICAgICBwZXJjZW50LnRleHRDb250ZW50ID0KICAgICAgICAgIGAke01hdGgucm91bmQoKHBvc2l0aW9uIC8gZmlsZURhdGEuYnl0ZUxlbmd0aCkgKiAxMDApfSUgZG9uZWA7CiAgICB9CiAgfQoKICAvLyBBbGwgZG9uZS4KICB5aWVsZCB7CiAgICByZXNwb25zZTogewogICAgICBhY3Rpb246ICdjb21wbGV0ZScsCiAgICB9CiAgfTsKfQoKc2NvcGUuZ29vZ2xlID0gc2NvcGUuZ29vZ2xlIHx8IHt9OwpzY29wZS5nb29nbGUuY29sYWIgPSBzY29wZS5nb29nbGUuY29sYWIgfHwge307CnNjb3BlLmdvb2dsZS5jb2xhYi5fZmlsZXMgPSB7CiAgX3VwbG9hZEZpbGVzLAogIF91cGxvYWRGaWxlc0NvbnRpbnVlLAp9Owp9KShzZWxmKTsK",
              "ok": true,
              "headers": [
                [
                  "content-type",
                  "application/javascript"
                ]
              ],
              "status": 200,
              "status_text": ""
            }
          },
          "base_uri": "https://localhost:8080/",
          "height": 108
        },
        "outputId": "7ba0dbe8-368e-493b-e4c1-5d50324c40dd"
      },
      "source": [
        "upload = files.upload()"
      ],
      "execution_count": null,
      "outputs": [
        {
          "output_type": "display_data",
          "data": {
            "text/html": [
              "\n",
              "     <input type=\"file\" id=\"files-38988039-640a-4366-b390-134e246aca8a\" name=\"files[]\" multiple disabled\n",
              "        style=\"border:none\" />\n",
              "     <output id=\"result-38988039-640a-4366-b390-134e246aca8a\">\n",
              "      Upload widget is only available when the cell has been executed in the\n",
              "      current browser session. Please rerun this cell to enable.\n",
              "      </output>\n",
              "      <script src=\"/nbextensions/google.colab/files.js\"></script> "
            ],
            "text/plain": [
              "<IPython.core.display.HTML object>"
            ]
          },
          "metadata": {
            "tags": []
          }
        },
        {
          "output_type": "stream",
          "text": [
            "Saving mtRainier.csv to mtRainier.csv\n",
            "Saving test_set.csv to test_set.csv\n"
          ],
          "name": "stdout"
        }
      ]
    },
    {
      "cell_type": "markdown",
      "metadata": {
        "id": "H36IqS70AV_l",
        "colab_type": "text"
      },
      "source": [
        "Asks user whether this is the first run of the code to avoid repeat computations."
      ]
    },
    {
      "cell_type": "code",
      "metadata": {
        "id": "pytFrKKsAQpI",
        "colab_type": "code",
        "colab": {
          "base_uri": "https://localhost:8080/",
          "height": 52
        },
        "outputId": "57fdc381-4e09-40bf-a91b-b46f00c5f0e9"
      },
      "source": [
        "# code reapeats until a valid input is inserted for the question.\n",
        "while True:\n",
        "    init_run = input('Is this the first run of the code y/n?\\n')\n",
        "\n",
        "    if init_run == 'y':\n",
        "        init_run = True\n",
        "        break\n",
        "    elif init_run == 'n':\n",
        "        init_run = False\n",
        "        break\n",
        "    else:\n",
        "        print('Invalid input.\\n')"
      ],
      "execution_count": null,
      "outputs": [
        {
          "output_type": "stream",
          "text": [
            "Is this the first run of the code y/n?\n",
            "y\n"
          ],
          "name": "stdout"
        }
      ]
    },
    {
      "cell_type": "markdown",
      "metadata": {
        "id": "6Hj2xQzZC4Sd",
        "colab_type": "text"
      },
      "source": [
        "## Training and Validation Split\n",
        "\n",
        "This section splits the data into a training, validation split and loads a test dataset. All this data is split into x: predictor, y: target pairs.\n",
        "\n",
        "\n",
        "---\n",
        "\n"
      ]
    },
    {
      "cell_type": "markdown",
      "metadata": {
        "id": "1QhLEpndFO9w",
        "colab_type": "text"
      },
      "source": [
        "Loads cleaned dataset."
      ]
    },
    {
      "cell_type": "code",
      "metadata": {
        "id": "YY4m7rHLEe9n",
        "colab_type": "code",
        "colab": {
          "base_uri": "https://localhost:8080/",
          "height": 254
        },
        "outputId": "e51994c0-ec5a-4ebd-a4b1-514a3691f76d"
      },
      "source": [
        "mtRainier = pd.read_csv('mtRainier.csv', index_col=0)\n",
        "\n",
        "# display data\n",
        "print('Merged climbing statistics and weather dataset.\\n')\n",
        "print('Size:', mtRainier.shape)\n",
        "mtRainier.head()"
      ],
      "execution_count": null,
      "outputs": [
        {
          "output_type": "stream",
          "text": [
            "Merged climbing statistics and weather dataset.\n",
            "\n",
            "Size: (483, 10)\n"
          ],
          "name": "stdout"
        },
        {
          "output_type": "execute_result",
          "data": {
            "text/html": [
              "<div>\n",
              "<style scoped>\n",
              "    .dataframe tbody tr th:only-of-type {\n",
              "        vertical-align: middle;\n",
              "    }\n",
              "\n",
              "    .dataframe tbody tr th {\n",
              "        vertical-align: top;\n",
              "    }\n",
              "\n",
              "    .dataframe thead th {\n",
              "        text-align: right;\n",
              "    }\n",
              "</style>\n",
              "<table border=\"1\" class=\"dataframe\">\n",
              "  <thead>\n",
              "    <tr style=\"text-align: right;\">\n",
              "      <th></th>\n",
              "      <th>Date</th>\n",
              "      <th>Route</th>\n",
              "      <th>Attempted</th>\n",
              "      <th>Succeeded</th>\n",
              "      <th>Success Percentage</th>\n",
              "      <th>Temperature AVG</th>\n",
              "      <th>Relative Humidity AVG</th>\n",
              "      <th>Wind Speed Daily AVG</th>\n",
              "      <th>Wind Direction AVG</th>\n",
              "      <th>Solar Radiation AVG</th>\n",
              "    </tr>\n",
              "  </thead>\n",
              "  <tbody>\n",
              "    <tr>\n",
              "      <th>0</th>\n",
              "      <td>2014-09-23</td>\n",
              "      <td>Disappointment Cleaver</td>\n",
              "      <td>11</td>\n",
              "      <td>0</td>\n",
              "      <td>0.000000</td>\n",
              "      <td>32.857333</td>\n",
              "      <td>100.000000</td>\n",
              "      <td>65.110667</td>\n",
              "      <td>254.273333</td>\n",
              "      <td>16.593800</td>\n",
              "    </tr>\n",
              "    <tr>\n",
              "      <th>1</th>\n",
              "      <td>2014-09-24</td>\n",
              "      <td>Disappointment Cleaver</td>\n",
              "      <td>12</td>\n",
              "      <td>0</td>\n",
              "      <td>0.000000</td>\n",
              "      <td>29.702917</td>\n",
              "      <td>100.000000</td>\n",
              "      <td>45.915000</td>\n",
              "      <td>278.054167</td>\n",
              "      <td>37.873708</td>\n",
              "    </tr>\n",
              "    <tr>\n",
              "      <th>2</th>\n",
              "      <td>2014-09-25</td>\n",
              "      <td>Disappointment Cleaver</td>\n",
              "      <td>14</td>\n",
              "      <td>8</td>\n",
              "      <td>0.571429</td>\n",
              "      <td>26.823750</td>\n",
              "      <td>99.854167</td>\n",
              "      <td>3.166208</td>\n",
              "      <td>278.604167</td>\n",
              "      <td>142.698917</td>\n",
              "    </tr>\n",
              "    <tr>\n",
              "      <th>3</th>\n",
              "      <td>2014-09-26</td>\n",
              "      <td>Disappointment Cleaver</td>\n",
              "      <td>41</td>\n",
              "      <td>19</td>\n",
              "      <td>0.463415</td>\n",
              "      <td>28.238333</td>\n",
              "      <td>100.000000</td>\n",
              "      <td>0.897625</td>\n",
              "      <td>259.645833</td>\n",
              "      <td>114.400833</td>\n",
              "    </tr>\n",
              "    <tr>\n",
              "      <th>4</th>\n",
              "      <td>2014-09-27</td>\n",
              "      <td>Disappointment Cleaver</td>\n",
              "      <td>44</td>\n",
              "      <td>25</td>\n",
              "      <td>0.568182</td>\n",
              "      <td>33.318750</td>\n",
              "      <td>60.200417</td>\n",
              "      <td>7.140917</td>\n",
              "      <td>116.294583</td>\n",
              "      <td>227.597125</td>\n",
              "    </tr>\n",
              "  </tbody>\n",
              "</table>\n",
              "</div>"
            ],
            "text/plain": [
              "         Date                   Route  ...  Wind Direction AVG  Solar Radiation AVG\n",
              "0  2014-09-23  Disappointment Cleaver  ...          254.273333            16.593800\n",
              "1  2014-09-24  Disappointment Cleaver  ...          278.054167            37.873708\n",
              "2  2014-09-25  Disappointment Cleaver  ...          278.604167           142.698917\n",
              "3  2014-09-26  Disappointment Cleaver  ...          259.645833           114.400833\n",
              "4  2014-09-27  Disappointment Cleaver  ...          116.294583           227.597125\n",
              "\n",
              "[5 rows x 10 columns]"
            ]
          },
          "metadata": {
            "tags": []
          },
          "execution_count": 4
        }
      ]
    },
    {
      "cell_type": "markdown",
      "metadata": {
        "id": "jtYJdGdcXyqa",
        "colab_type": "text"
      },
      "source": [
        "Split into 2 datasets: X of the predictors (weather variables) and y of the target (Success Percentage)."
      ]
    },
    {
      "cell_type": "code",
      "metadata": {
        "id": "1EGeIWGWYEEH",
        "colab_type": "code",
        "colab": {}
      },
      "source": [
        "X = mtRainier[[ 'Temperature AVG', 'Relative Humidity AVG',\n",
        "               'Wind Speed Daily AVG', 'Solar Radiation AVG' ]]\n",
        "y = mtRainier['Success Percentage']"
      ],
      "execution_count": null,
      "outputs": []
    },
    {
      "cell_type": "markdown",
      "metadata": {
        "id": "wo41OqGlVBat",
        "colab_type": "text"
      },
      "source": [
        "Split the data into a training set, with 80%, of the rows for the training of the models and a validation set, with 20% of the rows, for the insample validation of the accuracy of the model. The split is stratified in order to enforce a well sampled split in terms of the target 'Success Percentage'. The training and validation sets are then split into x: predictor, y: target pairs."
      ]
    },
    {
      "cell_type": "code",
      "metadata": {
        "id": "IqC_3n4eU7ps",
        "colab_type": "code",
        "colab": {}
      },
      "source": [
        "# create bins\n",
        "bins = np.linspace(0, 483, 50)\n",
        "\n",
        "# place target values into a bin for stratification of continuous sample\n",
        "y_binned = np.digitize(y, bins)\n",
        "\n",
        "# stratified test train split\n",
        "X_train, X_valid, y_train, y_valid = train_test_split(X,\n",
        "                                                      y, \n",
        "                                                      test_size=0.2, \n",
        "                                                      stratify=y_binned, \n",
        "                                                      random_state=0)"
      ],
      "execution_count": null,
      "outputs": []
    },
    {
      "cell_type": "markdown",
      "metadata": {
        "id": "jpWp4GMobFom",
        "colab_type": "text"
      },
      "source": [
        "Normalise the data to produce a common scale for predictors to remove a skew to the importance of 'Solar Radiation' as a predictor."
      ]
    },
    {
      "cell_type": "code",
      "metadata": {
        "id": "XwO34Jcyb-QI",
        "colab_type": "code",
        "colab": {}
      },
      "source": [
        "# scaling function\n",
        "scaler = StandardScaler()\n",
        "\n",
        "# fit scaler\n",
        "scaler.fit(X_train)\n",
        "\n",
        "# transform X_train and X_valid according to this scale\n",
        "X_train = scaler.transform(X_train)\n",
        "X_valid = scaler.transform(X_valid)"
      ],
      "execution_count": null,
      "outputs": []
    },
    {
      "cell_type": "markdown",
      "metadata": {
        "id": "sjU24YTyUdO4",
        "colab_type": "text"
      },
      "source": [
        "Loads Test dataset an out-of-sample data set of the weather conditions and success percentages from 28-31 December 2018."
      ]
    },
    {
      "cell_type": "code",
      "metadata": {
        "id": "eF72XLvLU1kP",
        "colab_type": "code",
        "colab": {
          "base_uri": "https://localhost:8080/",
          "height": 223
        },
        "outputId": "e5a76358-bac4-439d-b6c9-9cf783e75330"
      },
      "source": [
        "test = pd.read_csv('test_set.csv')\n",
        "\n",
        "# display data\n",
        "print('Test dataset.\\n')\n",
        "print('Size:', test.shape)\n",
        "test.head()"
      ],
      "execution_count": null,
      "outputs": [
        {
          "output_type": "stream",
          "text": [
            "Test dataset.\n",
            "\n",
            "Size: (4, 5)\n"
          ],
          "name": "stdout"
        },
        {
          "output_type": "execute_result",
          "data": {
            "text/html": [
              "<div>\n",
              "<style scoped>\n",
              "    .dataframe tbody tr th:only-of-type {\n",
              "        vertical-align: middle;\n",
              "    }\n",
              "\n",
              "    .dataframe tbody tr th {\n",
              "        vertical-align: top;\n",
              "    }\n",
              "\n",
              "    .dataframe thead th {\n",
              "        text-align: right;\n",
              "    }\n",
              "</style>\n",
              "<table border=\"1\" class=\"dataframe\">\n",
              "  <thead>\n",
              "    <tr style=\"text-align: right;\">\n",
              "      <th></th>\n",
              "      <th>Date</th>\n",
              "      <th>Temperature AVG</th>\n",
              "      <th>Relative Humidity AVG</th>\n",
              "      <th>Wind Speed Daily AVG</th>\n",
              "      <th>Solar Radiation AVG</th>\n",
              "    </tr>\n",
              "  </thead>\n",
              "  <tbody>\n",
              "    <tr>\n",
              "      <th>0</th>\n",
              "      <td>12/31/2018</td>\n",
              "      <td>24.062910</td>\n",
              "      <td>58.87083</td>\n",
              "      <td>17.977790</td>\n",
              "      <td>121.91529</td>\n",
              "    </tr>\n",
              "    <tr>\n",
              "      <th>1</th>\n",
              "      <td>12/30/2018</td>\n",
              "      <td>44.631200</td>\n",
              "      <td>53.49383</td>\n",
              "      <td>13.540541</td>\n",
              "      <td>191.19283</td>\n",
              "    </tr>\n",
              "    <tr>\n",
              "      <th>2</th>\n",
              "      <td>12/29/2018</td>\n",
              "      <td>22.614291</td>\n",
              "      <td>60.07291</td>\n",
              "      <td>10.451290</td>\n",
              "      <td>157.10091</td>\n",
              "    </tr>\n",
              "    <tr>\n",
              "      <th>3</th>\n",
              "      <td>12/28/2018</td>\n",
              "      <td>31.687041</td>\n",
              "      <td>70.55791</td>\n",
              "      <td>9.876980</td>\n",
              "      <td>176.24120</td>\n",
              "    </tr>\n",
              "  </tbody>\n",
              "</table>\n",
              "</div>"
            ],
            "text/plain": [
              "         Date  Temperature AVG  ...  Wind Speed Daily AVG  Solar Radiation AVG\n",
              "0  12/31/2018        24.062910  ...             17.977790            121.91529\n",
              "1  12/30/2018        44.631200  ...             13.540541            191.19283\n",
              "2  12/29/2018        22.614291  ...             10.451290            157.10091\n",
              "3  12/28/2018        31.687041  ...              9.876980            176.24120\n",
              "\n",
              "[4 rows x 5 columns]"
            ]
          },
          "metadata": {
            "tags": []
          },
          "execution_count": 8
        }
      ]
    },
    {
      "cell_type": "markdown",
      "metadata": {
        "id": "-x4LhWD3dssX",
        "colab_type": "text"
      },
      "source": [
        "Normalise the test variables."
      ]
    },
    {
      "cell_type": "code",
      "metadata": {
        "id": "QM3EJH-DdxTF",
        "colab_type": "code",
        "colab": {}
      },
      "source": [
        "# scale predictor variables\n",
        "X_test = scaler.transform(test[[ 'Temperature AVG',\n",
        "                                'Relative Humidity AVG',\n",
        "                                'Wind Speed Daily AVG',\n",
        "                                'Solar Radiation AVG' ]])\n",
        "\n",
        "# update test to contain normalised variables\n",
        "test.iloc[:,1:] = X_test"
      ],
      "execution_count": null,
      "outputs": []
    },
    {
      "cell_type": "markdown",
      "metadata": {
        "id": "2-VItwWnfi8F",
        "colab_type": "text"
      },
      "source": [
        "## Linear Regression\n",
        "\n",
        "The first regression method employed was linear regression.\n",
        "\n",
        "<u>**Liner Regression:**</u>\n",
        "\n",
        "In linear regression a linear relationship is assumed between the predictors X and the target y. \n",
        "\n",
        "Each row of X is a vector $\\vec{x}_{i}$ of descriptors and an element of the target is a scalar $y_{i}$. This linear relationship is then summarised as the following model: $$y_{pred}^{i} = f_{LR}(\\vec{x_{i}}; \\vec{\\beta}) = \\beta_{0} + \\beta_{1} x_{i}^{1} + ... + \\beta_{p} x_{i}^{p}$$ where p is the number of predictors and $\\vec{\\beta} = (\\beta_{0},...,\\beta_{p})$ is a set of hyperparameters.\n",
        "\n",
        "The principal of the parameter choice is to minimise the Mean Square Error between the predictions $y_{pred}^{i}$ and the actual values $y_{i}$. That is pick $\\vec{\\theta}$ to minimise: $\\frac{1}{N} \\sum\\limits_{i=1}^{N}[y_{i} - y_{pred}^{i}]^{2}$. Using methods of Linear algebra this problem can be recast as a standard optimisation problem which can be optimised used gradient descent methods.\n",
        "\n",
        "\\begin{equation}\n",
        "\\min\\limits_{\\vec{\\beta}} ||\\vec{y} - X \\vec{\\beta}||_{2}^{2}\n",
        "\\end{equation}\n",
        "\n",
        "---\n",
        "\n",
        "\n",
        "\n"
      ]
    },
    {
      "cell_type": "markdown",
      "metadata": {
        "id": "2nET_9XBtGee",
        "colab_type": "text"
      },
      "source": [
        "Initialisation of the model."
      ]
    },
    {
      "cell_type": "code",
      "metadata": {
        "id": "QENvajGDsvp-",
        "colab_type": "code",
        "colab": {}
      },
      "source": [
        "#creates model\n",
        "LR_model = LinearRegression()"
      ],
      "execution_count": null,
      "outputs": []
    },
    {
      "cell_type": "markdown",
      "metadata": {
        "id": "EGOkie3DtRqE",
        "colab_type": "text"
      },
      "source": [
        "Fit model."
      ]
    },
    {
      "cell_type": "code",
      "metadata": {
        "id": "KMO7QO5btTg_",
        "colab_type": "code",
        "colab": {
          "base_uri": "https://localhost:8080/",
          "height": 17
        },
        "outputId": "41e70af9-c794-47c0-a675-21f762ffec1a"
      },
      "source": [
        "# if first run of code fit and save model.\n",
        "if init_run:\n",
        "    # fitting of model\n",
        "    LR_model.fit(X_train,y_train)\n",
        "\n",
        "    # create file\n",
        "    pickle.dump(LR_model, open('LR_model.sav', 'wb'))\n",
        "\n",
        "    # save file\n",
        "    files.download('LR_model.sav')\n",
        "\n",
        "# if not first run load fitted model.\n",
        "else:\n",
        "    # import file\n",
        "    files.upload()\n",
        "    \n",
        "    # load fitted model\n",
        "    LR_model = pickle.load(open('LR_model.sav', 'rb'))"
      ],
      "execution_count": null,
      "outputs": [
        {
          "output_type": "display_data",
          "data": {
            "application/javascript": [
              "\n",
              "    async function download(id, filename, size) {\n",
              "      if (!google.colab.kernel.accessAllowed) {\n",
              "        return;\n",
              "      }\n",
              "      const div = document.createElement('div');\n",
              "      const label = document.createElement('label');\n",
              "      label.textContent = `Downloading \"${filename}\": `;\n",
              "      div.appendChild(label);\n",
              "      const progress = document.createElement('progress');\n",
              "      progress.max = size;\n",
              "      div.appendChild(progress);\n",
              "      document.body.appendChild(div);\n",
              "\n",
              "      const buffers = [];\n",
              "      let downloaded = 0;\n",
              "\n",
              "      const channel = await google.colab.kernel.comms.open(id);\n",
              "      // Send a message to notify the kernel that we're ready.\n",
              "      channel.send({})\n",
              "\n",
              "      for await (const message of channel.messages) {\n",
              "        // Send a message to notify the kernel that we're ready.\n",
              "        channel.send({})\n",
              "        if (message.buffers) {\n",
              "          for (const buffer of message.buffers) {\n",
              "            buffers.push(buffer);\n",
              "            downloaded += buffer.byteLength;\n",
              "            progress.value = downloaded;\n",
              "          }\n",
              "        }\n",
              "      }\n",
              "      const blob = new Blob(buffers, {type: 'application/binary'});\n",
              "      const a = document.createElement('a');\n",
              "      a.href = window.URL.createObjectURL(blob);\n",
              "      a.download = filename;\n",
              "      div.appendChild(a);\n",
              "      a.click();\n",
              "      div.remove();\n",
              "    }\n",
              "  "
            ],
            "text/plain": [
              "<IPython.core.display.Javascript object>"
            ]
          },
          "metadata": {
            "tags": []
          }
        },
        {
          "output_type": "display_data",
          "data": {
            "application/javascript": [
              "download(\"download_859f4feb-90d1-4fe7-b366-7aa83f9316b9\", \"LR_model.sav\", 569)"
            ],
            "text/plain": [
              "<IPython.core.display.Javascript object>"
            ]
          },
          "metadata": {
            "tags": []
          }
        }
      ]
    },
    {
      "cell_type": "markdown",
      "metadata": {
        "id": "QW4ZwgBzta2T",
        "colab_type": "text"
      },
      "source": [
        "Report of the model coefficient choices, the MSE and the coefficient of determiniation $R^{2}$ for the in-sample training data. \n",
        "\n",
        "$R^{2}$ quantifies the degree of any linear correlation between $\\vec{y_{pred}}$ and $\\vec{y}$.\n",
        "\n",
        "Mathematically $R^{2} = 1 - \\frac{SS_{res}}{SS_{tot}}$ where $SS_{tot} = \\sum_{i} (y_{i} - \\bar{y})$ the total sum of squares and $SS_{res} = \\sum_{i} [y_{i} - y_{pred}^{i}]^{2}$ the sum of residuals. A score close to 1 indicates a good fit, less than 0 indicates a fit which is worse than the horizontal hyperplane. \n",
        "\n",
        "It is worth noting that $R^{2}$ is monotone increasing with the number of variables included."
      ]
    },
    {
      "cell_type": "code",
      "metadata": {
        "id": "TPtu-fayyBM9",
        "colab_type": "code",
        "colab": {
          "base_uri": "https://localhost:8080/",
          "height": 69
        },
        "outputId": "01cb2a8e-29d8-4fc8-901b-093f16809907"
      },
      "source": [
        "print('The model parameters are:', LR_model.coef_ )\n",
        "\n",
        "#makes in-sample predicions\n",
        "pred_train = LR_model.predict(X_train)\n",
        "\n",
        "print('The in-sample coefficient of determination of the model is %.5f.'\\\n",
        "      %LR_model.score(X_train, y_train))\n",
        "print('The in-sample MSE of the Linear Regression model is %.5f.'\\\n",
        "      %metrics.mean_squared_error(y_train, pred_train))"
      ],
      "execution_count": null,
      "outputs": [
        {
          "output_type": "stream",
          "text": [
            "The model parameters are: [-0.01890425  0.00642548 -0.01117506  0.19124489]\n",
            "The in-sample coefficient of determination of the model is 0.22897.\n",
            "The in-sample MSE of the Linear Regression model is 0.11008.\n"
          ],
          "name": "stdout"
        }
      ]
    },
    {
      "cell_type": "markdown",
      "metadata": {
        "id": "870IHwfsyuPD",
        "colab_type": "text"
      },
      "source": [
        "The MSE of the out-of-sample predictions of the model on the validation set."
      ]
    },
    {
      "cell_type": "code",
      "metadata": {
        "id": "72ld5U-Rze1F",
        "colab_type": "code",
        "colab": {
          "base_uri": "https://localhost:8080/",
          "height": 52
        },
        "outputId": "20d717fc-e486-4b27-954a-e511ece9116e"
      },
      "source": [
        "# makes out_of-sample predicions\n",
        "pred_valid = LR_model.predict(X_valid)\n",
        "\n",
        "print('The out-of-sample coefficient of determination of the model is %.5f.'\\\n",
        "      %LR_model.score(X_valid,y_valid))\n",
        "print('The out-of-sample MSE of the Linear Regression model is %.5f.'\\\n",
        "      %metrics.mean_squared_error(y_valid,pred_valid))"
      ],
      "execution_count": null,
      "outputs": [
        {
          "output_type": "stream",
          "text": [
            "The out-of-sample coefficient of determination of the model is 0.16886.\n",
            "The out-of-sample MSE of the Linear Regression model is 0.12083.\n"
          ],
          "name": "stdout"
        }
      ]
    },
    {
      "cell_type": "markdown",
      "metadata": {
        "id": "2aF-64If1FJA",
        "colab_type": "text"
      },
      "source": [
        "The MSE of the in-sample data is 0.11008 which is very similar to that of the out-of-sample MSE 0.12083. This suggests our Linear Regression model has slight over-fitting of the training set. \n",
        "\n",
        "However the in-sample coefficient of determination $ R^2 $ of the model is only 0.16886 meaning the models predictions are not considerably better than a prediction of the mean Success Percentage. This suggests the assumed linear relationship is likely an over simplifaction for the problem.\n",
        "\n",
        "---\n",
        "\n",
        "The model is then used to making predictions of Success Percentages of climbers from a data set of weather variables outside the original dataset.\n"
      ]
    },
    {
      "cell_type": "code",
      "metadata": {
        "id": "5lcVYQPb26mI",
        "colab_type": "code",
        "colab": {
          "base_uri": "https://localhost:8080/",
          "height": 87
        },
        "outputId": "8c57d47b-6faa-4384-99fb-40dd151ef623"
      },
      "source": [
        "# makes out-of-sample predicions\n",
        "pred_test = LR_model.predict(X_test)\n",
        "\n",
        "# prints out test results\n",
        "for i, date in enumerate(test['Date']):\n",
        "    pred = round(pred_test[i]*100,2)\n",
        "    print('On the ' + date + ' the predicted Success Percentage is '\\\n",
        "          + str(pred) + '%.')"
      ],
      "execution_count": null,
      "outputs": [
        {
          "output_type": "stream",
          "text": [
            "On the 12/31/2018 the predicted Success Percentage is 26.35%.\n",
            "On the 12/30/2018 the predicted Success Percentage is 32.54%.\n",
            "On the 12/29/2018 the predicted Success Percentage is 32.46%.\n",
            "On the 12/28/2018 the predicted Success Percentage is 33.77%.\n"
          ],
          "name": "stdout"
        }
      ]
    },
    {
      "cell_type": "markdown",
      "metadata": {
        "id": "F52txkhx3N2H",
        "colab_type": "text"
      },
      "source": [
        "## Ridge Regression\n",
        "\n",
        "Ridge regression is an extension of the Linear Regression model. This involves an adaptation of the objective function to be optimised to include a penalty paramater $\\alpha$. Ridge Regression can be written as the following optimisation problem:\n",
        "\n",
        "\\begin{equation}\n",
        "\\min\\limits_{\\vec{\\beta}} ||\\vec{y} - X \\vec{\\beta}||_{2}^{2} + \\alpha ||\\vec{\\beta}||_{2}^{2}\n",
        "\\end{equation}\n",
        "\n",
        "This additional parameter controls the models parameter complexity. The higher $\\alpha$ is the higher the penalty is for parameter complexity. This is a shrinkage method which controls the bias-variance trade off. As $\\alpha$ increases bias increases and variance decreases as more parameters are set to 0. This consequently controls the level of fitting. Low $\\alpha$ permits over-fitting and high $\\alpha$ results in under-fitting. \n"
      ]
    },
    {
      "cell_type": "markdown",
      "metadata": {
        "id": "gQaX0Vr80o_m",
        "colab_type": "text"
      },
      "source": [
        "### Regression Functions\n",
        "\n",
        "Initially a function is created to run the regression model for a specific $\\alpha$ and return errors. Then another which plots the MSE for Ridge regression for a range of alpha."
      ]
    },
    {
      "cell_type": "code",
      "metadata": {
        "id": "P5G83Pew-FDW",
        "colab_type": "code",
        "colab": {}
      },
      "source": [
        "def ridge_error(X_train, y_train, X_valid, y_valid, alpha):\n",
        "    \"\"\"a function which for given training and validation sets runs a ridge\n",
        "     regression for the given penalty paramater alpha returning the \n",
        "     out-of-sample MSE and R^2\n",
        "     Inputs:\n",
        "        X_train: df of training predictors.\n",
        "        y_train: df of training targets.\n",
        "        X_valid: df of training predictors.\n",
        "        y_valid: df of training targets. \n",
        "        alpha: Ridge hyperparameter.\n",
        "      Outputs:\n",
        "        MSE: out-of-sample MSE.\n",
        "      \"\"\"\n",
        "    # creates the Ridge model with paramater alpha\n",
        "    model = Ridge(alpha=alpha)\n",
        "        \n",
        "    # fits model\n",
        "    model.fit(X_train, y_train)\n",
        "    \n",
        "    # make predictions from validation set\n",
        "    pred_valid = model.predict(X_valid)\n",
        "\n",
        "    # finds out-of-sample MSE\n",
        "    MSE = metrics.mean_squared_error(y_valid,pred_valid)\n",
        "    \n",
        "    return MSE\n",
        "\n",
        "def ridge_error_plotter(X_train, y_train, X_valid, y_valid, alpha_vec, fig_num):\n",
        "    \"\"\"a function which for given training and validation sets runs a ridge\n",
        "     regression for a given vector of penalty paramaters returning a \n",
        "     plot of the out-of-sample MSE and the optimum alpha.\n",
        "     Inputs:\n",
        "        X_train: df of training predictors.\n",
        "        y_train: df of training targets.\n",
        "        X_valid: df of training predictors.\n",
        "        y_valid: df of training targets. \n",
        "        alpha_vec: array of Ridge hyperparameters.\n",
        "        fig_num: number of figure.\n",
        "      Outputs:\n",
        "        opt_alpha: optimum alpha.\n",
        "    \"\"\"\n",
        "    # vector of errors for the range of alphas\n",
        "    MSE_vec = [ridge_error(X_train, y_train, X_valid, y_valid, a)\\\n",
        "                for a in alpha_vec]\n",
        "\n",
        "    # current optimum alpha\n",
        "    opt_alpha = alpha_vec[MSE_vec.index(min(MSE_vec))]\n",
        "\n",
        "    # create figure\n",
        "    fig = plt.figure(figsize=(12, 8))\n",
        "\n",
        "    # title\n",
        "    plt.title(r'Out-of-Sample Error vs $\\alpha$ (Fig.' + fig_num + ').',\n",
        "              fontsize=15)\n",
        "    plt.xlabel(r'$\\alpha$')\n",
        "    plt.ylabel('Out-of-Sample MSE')\n",
        "\n",
        "    # make plot \n",
        "    plt.plot(alpha_vec, MSE_vec)\n",
        "    plt.axvline(opt_alpha, color='r', linestyle='--',\n",
        "                label = r'Minimum MSE at $\\alpha$ = %.2f '%opt_alpha)\n",
        "    plt.legend(fontsize=14)\n",
        "    plt.show()\n",
        "\n",
        "    return opt_alpha"
      ],
      "execution_count": null,
      "outputs": []
    },
    {
      "cell_type": "markdown",
      "metadata": {
        "id": "eogihZSiNiuf",
        "colab_type": "text"
      },
      "source": [
        "### Penalty Parameter Choice\n",
        "Numerical computation of the optimum penalty parameter of the Ridge Regression models for this dataset. The optimal value being the value which minimises the out-of-sample MSE for the regression model. A more robust $\\alpha$ can be obtained by cross validation tecniques.\n",
        "\n",
        "---\n",
        "\n",
        "Initial coarse search of parameters."
      ]
    },
    {
      "cell_type": "code",
      "metadata": {
        "id": "jwrpYXlaSJKQ",
        "colab_type": "code",
        "colab": {
          "base_uri": "https://localhost:8080/",
          "height": 539
        },
        "outputId": "17e10815-9641-45d4-aeec-f2f0bb587801"
      },
      "source": [
        "# range of alpha to check\n",
        "alpha_vec = np.linspace(0, 1000, 1000)\n",
        "\n",
        "# plot of errors\n",
        "ridge_error_plotter(X_train, y_train, X_valid, y_valid, alpha_vec, '1')"
      ],
      "execution_count": null,
      "outputs": [
        {
          "output_type": "display_data",
          "data": {
            "image/png": "[encoded data removed]",
            "text/plain": [
              "<Figure size 864x576 with 1 Axes>"
            ]
          },
          "metadata": {
            "tags": [],
            "needs_background": "light"
          }
        },
        {
          "output_type": "execute_result",
          "data": {
            "text/plain": [
              "107.10710710710711"
            ]
          },
          "metadata": {
            "tags": []
          },
          "execution_count": 16
        }
      ]
    },
    {
      "cell_type": "markdown",
      "metadata": {
        "id": "_mhO047IuoUZ",
        "colab_type": "text"
      },
      "source": [
        "Refined parameter search."
      ]
    },
    {
      "cell_type": "code",
      "metadata": {
        "id": "a9MmGrwcwW6q",
        "colab_type": "code",
        "colab": {
          "base_uri": "https://localhost:8080/",
          "height": 522
        },
        "outputId": "a3d49007-c162-4738-bda0-5f9575d78ec9"
      },
      "source": [
        "# range of alpha to check\n",
        "alpha_vec = np.linspace(50, 150, 1000)\n",
        "\n",
        "# plot of errors\n",
        "opt_alpha = ridge_error_plotter(X_train, y_train, X_valid, y_valid, alpha_vec,\n",
        "                                '2')"
      ],
      "execution_count": null,
      "outputs": [
        {
          "output_type": "display_data",
          "data": {
            "image/png": "[encoded data removed]",
            "text/plain": [
              "<Figure size 864x576 with 1 Axes>"
            ]
          },
          "metadata": {
            "tags": [],
            "needs_background": "light"
          }
        }
      ]
    },
    {
      "cell_type": "markdown",
      "metadata": {
        "id": "JhA8kUOV0u3b",
        "colab_type": "text"
      },
      "source": [
        "### Results of Optimised Ridge Model"
      ]
    },
    {
      "cell_type": "code",
      "metadata": {
        "colab_type": "code",
        "id": "Om_cpTjh1gfI",
        "colab": {}
      },
      "source": [
        "#creates model\n",
        "Ridge_model = Ridge(alpha=opt_alpha)"
      ],
      "execution_count": null,
      "outputs": []
    },
    {
      "cell_type": "markdown",
      "metadata": {
        "colab_type": "text",
        "id": "Ru7W9iFv1gfS"
      },
      "source": [
        "Fit model."
      ]
    },
    {
      "cell_type": "code",
      "metadata": {
        "colab_type": "code",
        "id": "7JOZVGdt1gfU",
        "colab": {
          "base_uri": "https://localhost:8080/",
          "height": 17
        },
        "outputId": "a2bfcdfa-3a88-479e-95b5-dc8874682363"
      },
      "source": [
        "# if first run of code fit and save model.\n",
        "if init_run:\n",
        "    # fitting of model\n",
        "    Ridge_model.fit(X_train,y_train)\n",
        "\n",
        "    # create file\n",
        "    pickle.dump(Ridge_model, open('Ridge_model.sav', 'wb'))\n",
        "\n",
        "    # save file\n",
        "    files.download('Ridge_model.sav')\n",
        "\n",
        "# if not first run load fitted model.\n",
        "else:\n",
        "    # import file\n",
        "    files.upload()\n",
        "    \n",
        "    # load fitted model\n",
        "    Ridge_model = pickle.load(open('Ridge_model.sav', 'rb'))"
      ],
      "execution_count": null,
      "outputs": [
        {
          "output_type": "display_data",
          "data": {
            "application/javascript": [
              "\n",
              "    async function download(id, filename, size) {\n",
              "      if (!google.colab.kernel.accessAllowed) {\n",
              "        return;\n",
              "      }\n",
              "      const div = document.createElement('div');\n",
              "      const label = document.createElement('label');\n",
              "      label.textContent = `Downloading \"${filename}\": `;\n",
              "      div.appendChild(label);\n",
              "      const progress = document.createElement('progress');\n",
              "      progress.max = size;\n",
              "      div.appendChild(progress);\n",
              "      document.body.appendChild(div);\n",
              "\n",
              "      const buffers = [];\n",
              "      let downloaded = 0;\n",
              "\n",
              "      const channel = await google.colab.kernel.comms.open(id);\n",
              "      // Send a message to notify the kernel that we're ready.\n",
              "      channel.send({})\n",
              "\n",
              "      for await (const message of channel.messages) {\n",
              "        // Send a message to notify the kernel that we're ready.\n",
              "        channel.send({})\n",
              "        if (message.buffers) {\n",
              "          for (const buffer of message.buffers) {\n",
              "            buffers.push(buffer);\n",
              "            downloaded += buffer.byteLength;\n",
              "            progress.value = downloaded;\n",
              "          }\n",
              "        }\n",
              "      }\n",
              "      const blob = new Blob(buffers, {type: 'application/binary'});\n",
              "      const a = document.createElement('a');\n",
              "      a.href = window.URL.createObjectURL(blob);\n",
              "      a.download = filename;\n",
              "      div.appendChild(a);\n",
              "      a.click();\n",
              "      div.remove();\n",
              "    }\n",
              "  "
            ],
            "text/plain": [
              "<IPython.core.display.Javascript object>"
            ]
          },
          "metadata": {
            "tags": []
          }
        },
        {
          "output_type": "display_data",
          "data": {
            "application/javascript": [
              "download(\"download_0b0ccdbe-cd6e-48bd-aca1-7348765374cf\", \"Ridge_model.sav\", 537)"
            ],
            "text/plain": [
              "<IPython.core.display.Javascript object>"
            ]
          },
          "metadata": {
            "tags": []
          }
        }
      ]
    },
    {
      "cell_type": "markdown",
      "metadata": {
        "colab_type": "text",
        "id": "fgxIPhZX1gfa"
      },
      "source": [
        "The MSE of the in-sample predictions of the model on the validation set."
      ]
    },
    {
      "cell_type": "code",
      "metadata": {
        "colab_type": "code",
        "id": "S_Vcbog-1gfb",
        "colab": {
          "base_uri": "https://localhost:8080/",
          "height": 69
        },
        "outputId": "168ca980-f17a-4193-9557-a4b7402dc170"
      },
      "source": [
        "print('The model parameters are:', Ridge_model.coef_ )\n",
        "\n",
        "#makes in-sample predicions\n",
        "pred_train = Ridge_model.predict(X_train)\n",
        "\n",
        "print('The in-sample coefficient of determination of the model is %.5f.'\\\n",
        "      %Ridge_model.score(X_train, y_train))\n",
        "print('The in-sample MSE of the Ridge Regression model is %.5f.'\\\n",
        "      %metrics.mean_squared_error(y_train, pred_train))"
      ],
      "execution_count": null,
      "outputs": [
        {
          "output_type": "stream",
          "text": [
            "The model parameters are: [ 0.0132382   0.00240352 -0.01533598  0.13127911]\n",
            "The in-sample coefficient of determination of the model is 0.21459.\n",
            "The in-sample MSE of the Ridge Regression model is 0.11213.\n"
          ],
          "name": "stdout"
        }
      ]
    },
    {
      "cell_type": "markdown",
      "metadata": {
        "colab_type": "text",
        "id": "yibmVjbM2LDV"
      },
      "source": [
        "The MSE of the out-of-sample predictions of the model on the validation set."
      ]
    },
    {
      "cell_type": "code",
      "metadata": {
        "colab_type": "code",
        "id": "NpivumuE2LDW",
        "colab": {
          "base_uri": "https://localhost:8080/",
          "height": 52
        },
        "outputId": "21247ae0-f3a2-4967-ea34-34d987e73326"
      },
      "source": [
        "# makes out_of-sample predicions\n",
        "pred_valid = Ridge_model.predict(X_valid)\n",
        "\n",
        "print('The out-of-sample coefficient of determination of the model is %.5f.'\\\n",
        "      %Ridge_model.score(X_valid,y_valid))\n",
        "print('The out-of-sample MSE of the Ridge Regression model is %.5f.'\\\n",
        "      %metrics.mean_squared_error(y_valid,pred_valid))"
      ],
      "execution_count": null,
      "outputs": [
        {
          "output_type": "stream",
          "text": [
            "The out-of-sample coefficient of determination of the model is 0.18743.\n",
            "The out-of-sample MSE of the Ridge Regression model is 0.11813.\n"
          ],
          "name": "stdout"
        }
      ]
    },
    {
      "cell_type": "code",
      "metadata": {
        "colab_type": "code",
        "id": "RsL0Jd452LDZ",
        "colab": {
          "base_uri": "https://localhost:8080/",
          "height": 87
        },
        "outputId": "29532895-9bca-46ad-b1c6-5fb64bba8968"
      },
      "source": [
        "# makes out-of-sample predicions\n",
        "pred_test = Ridge_model.predict(X_test)\n",
        "\n",
        "# prints out test results\n",
        "for i, date in enumerate(test['Date']):\n",
        "    pred = round(pred_test[i]*100,2)\n",
        "    print('On the ' + date + ' the predicted Success Percentage is '\\\n",
        "          + str(pred) + '%.')"
      ],
      "execution_count": null,
      "outputs": [
        {
          "output_type": "stream",
          "text": [
            "On the 12/31/2018 the predicted Success Percentage is 25.73%.\n",
            "On the 12/30/2018 the predicted Success Percentage is 35.86%.\n",
            "On the 12/29/2018 the predicted Success Percentage is 30.07%.\n",
            "On the 12/28/2018 the predicted Success Percentage is 33.35%.\n"
          ],
          "name": "stdout"
        }
      ]
    },
    {
      "cell_type": "markdown",
      "metadata": {
        "id": "MmwZB2b08el9",
        "colab_type": "text"
      },
      "source": [
        "## Discussion"
      ]
    },
    {
      "cell_type": "markdown",
      "metadata": {
        "id": "OBTO5wNo85E6",
        "colab_type": "text"
      },
      "source": [
        "As discussed the principal difference between the Linear regression and Ridge regression is the penalty term $\\alpha ||\\vec{\\beta}||_{2}^{2}$ in the Ridge regressions loss function. This controlling the complexity of the parameters $\\vec{\\beta}$. As discussed the inclusion of this term is a method in which we can control the fitting of the models.\n",
        "\n",
        "We see in (fig.1) that the out-of-sample MSE for Linear regression ($\\alpha= 0$) is greater than that of MSE of the optimimum $\\alpha = \\alpha_{opt}$ of Ridge regression. We can interpret the region of $\\alpha \\in [0, \\alpha_{opt})$ as region of over-fitting, where we have an over complexity of parameters. This can be visualised in (fig.3) with the correlated variables of Temperature AVG and Solar Radiation AVG cancelling eachother out at the early section of this interval. Their correlation implies that they should work in tandem as predictors and should not compete. This competion of correlated variables is an indication of conjectured over-fitting to the training data set.\n",
        "\n",
        "In the interval $(\\alpha_{opt}, \\infty]$ we see that the MSE then begins to monotomically increase. We can interpret this as a region of under-fitting to the training data set. This can be supported by (fig.3) from which we can see as $\\alpha$ increase the parameter vector $\\vec{\\beta} \\to \\vec{0}$ suggesting a tending towards an absolute underfit i.e no fitting at all.\n",
        "\n",
        "---\n",
        "\n",
        "Obtains all coefficients for the Ridge models."
      ]
    },
    {
      "cell_type": "code",
      "metadata": {
        "id": "xhO75KdS-trl",
        "colab_type": "code",
        "colab": {}
      },
      "source": [
        "def get_coef(X_train, y_train, alpha):\n",
        "    \"\"\"a function which for given training and validation sets runs a ridge\n",
        "     regression for the given penalty paramater alpha returning the coefficients\n",
        "     Inputs:\n",
        "        X_train: df of training predictors.\n",
        "        y_train: df of training targets.\n",
        "        alpha: Ridge hyperparameter.\n",
        "      Outputs:\n",
        "        coefficients of the regression.\n",
        "      \"\"\"\n",
        "    # creates the Ridge model with paramater alpha\n",
        "    model = Ridge(alpha=alpha)\n",
        "        \n",
        "    # fits model\n",
        "    model.fit(X_train, y_train)\n",
        "\n",
        "    return model.coef_\n",
        "\n",
        "# range of alpha to check\n",
        "alpha_vec = np.linspace(0, 1000, 1000)\n",
        "\n",
        "# vector of coefficients.\n",
        "coef_vec = [get_coef(X_train, y_train, a) for a in alpha_vec]\n",
        "\n",
        "# unzips coefficients\n",
        "beta_1, beta_2, beta_3, beta_4 = zip(*coef_vec)"
      ],
      "execution_count": null,
      "outputs": []
    },
    {
      "cell_type": "markdown",
      "metadata": {
        "id": "qbSR6ER7PU2O",
        "colab_type": "text"
      },
      "source": [
        "Plots all coefficients."
      ]
    },
    {
      "cell_type": "code",
      "metadata": {
        "id": "flj_JMr1FDes",
        "colab_type": "code",
        "colab": {
          "base_uri": "https://localhost:8080/",
          "height": 522
        },
        "outputId": "82b0d999-ae69-436e-8e5e-14ae1ae3b429"
      },
      "source": [
        "# create figure\n",
        "fig = plt.figure(figsize=(12, 8))\n",
        "\n",
        "# title\n",
        "plt.title(r'Variation of Coefficients with $\\alpha$ (Fig.3).',\n",
        "          fontsize=15)\n",
        "plt.xlabel(r'$\\alpha$')\n",
        "plt.ylabel(r'$\\beta$')\n",
        "\n",
        "# make plot\n",
        "plt.plot(alpha_vec, beta_1, label = 'Temperature AVG')\n",
        "plt.plot(alpha_vec, beta_2,color='k', label = 'Relative Humidity AVG')\n",
        "plt.plot(alpha_vec, beta_3, label = 'Wind Speed Daily AVG')\n",
        "plt.plot(alpha_vec, beta_4, label = 'Solar Radiation AVG')\n",
        "plt.axvline(opt_alpha, color='r', linestyle='--', \n",
        "                label = r'Minimum MSE at $\\alpha$ = %.2f '%opt_alpha)\n",
        "plt.legend(fontsize = 12)\n",
        "plt.show()"
      ],
      "execution_count": null,
      "outputs": [
        {
          "output_type": "display_data",
          "data": {
            "image/png": "[encoded data removed]",
            "text/plain": [
              "<Figure size 864x576 with 1 Axes>"
            ]
          },
          "metadata": {
            "tags": [],
            "needs_background": "light"
          }
        }
      ]
    }
  ]
}
