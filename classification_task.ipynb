{
  "nbformat": 4,
  "nbformat_minor": 0,
  "metadata": {
    "colab": {
      "name": "classification_task.ipynb",
      "provenance": [],
      "authorship_tag": "ABX9TyMwOGOFnQYRHBxaAfrr3i3n",
      "include_colab_link": true
    },
    "kernelspec": {
      "name": "python3",
      "display_name": "Python 3"
    }
  },
  "cells": [
    {
      "cell_type": "markdown",
      "metadata": {
        "id": "view-in-github",
        "colab_type": "text"
      },
      "source": [
        "<a href=\"https://colab.research.google.com/github/DomMc97/Climbing_Data/blob/master/classification_task.ipynb\" target=\"_parent\"><img src=\"https://colab.research.google.com/assets/colab-badge.svg\" alt=\"Open In Colab\"/></a>"
      ]
    },
    {
      "cell_type": "markdown",
      "metadata": {
        "id": "4B31Ks4W0VrG",
        "colab_type": "text"
      },
      "source": [
        "# Classification to Predict Success of an Ascent.\n",
        "\n",
        "A notebook which uses classification techniques to predict whether an attempted climb of Mt. Rainier will be successful dependent on the four weather features ‘Temperature’, ‘Relative Humidity’, ‘Wind Speed Daily’ and ‘Solar Radiation’ on the day of the climb.\n",
        "\n",
        "\n",
        "---"
      ]
    },
    {
      "cell_type": "markdown",
      "metadata": {
        "id": "79Djfn1f69bc",
        "colab_type": "text"
      },
      "source": [
        "## Set Up"
      ]
    },
    {
      "cell_type": "markdown",
      "metadata": {
        "id": "D_SRGbeg7D1W",
        "colab_type": "text"
      },
      "source": [
        "Import libraries."
      ]
    },
    {
      "cell_type": "code",
      "metadata": {
        "id": "ZHZgcnJo5F2F",
        "colab_type": "code",
        "colab": {
          "base_uri": "https://localhost:8080/",
          "height": 52
        },
        "outputId": "358fca7a-1469-4cdc-b5ec-f761acf44a97"
      },
      "source": [
        "# scientific library\n",
        "import numpy as np\n",
        "\n",
        "# plotting libraries\n",
        "import matplotlib.pyplot as plt\n",
        "import seaborn as sns\n",
        "sns.set() #sets design of figures\n",
        "\n",
        "# data analytics library\n",
        "import pandas as pd\n",
        "\n",
        "# sklearn functions\n",
        "from sklearn.model_selection import train_test_split\n",
        "from sklearn.preprocessing import StandardScaler\n",
        "from sklearn.linear_model import LogisticRegression\n",
        "from sklearn.naive_bayes import GaussianNB \n",
        "from sklearn import metrics\n",
        "\n",
        "# libraries for saving/loading data\n",
        "import pickle\n",
        "from google.colab import files"
      ],
      "execution_count": 1,
      "outputs": [
        {
          "output_type": "stream",
          "text": [
            "/usr/local/lib/python3.6/dist-packages/statsmodels/tools/_testing.py:19: FutureWarning: pandas.util.testing is deprecated. Use the functions in the public API at pandas.testing instead.\n",
            "  import pandas.util.testing as tm\n"
          ],
          "name": "stderr"
        }
      ]
    },
    {
      "cell_type": "code",
      "metadata": {
        "id": "G3SpNXDO-KMh",
        "colab_type": "code",
        "colab": {
          "resources": {
            "http://localhost:8080/nbextensions/google.colab/files.js": {
              "data": "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",
              "ok": true,
              "headers": [
                [
                  "content-type",
                  "application/javascript"
                ]
              ],
              "status": 200,
              "status_text": ""
            }
          },
          "base_uri": "https://localhost:8080/",
          "height": 108
        },
        "outputId": "fa78b5c1-99b5-4085-fe43-d66d526329ed"
      },
      "source": [
        "upload = files.upload()"
      ],
      "execution_count": 2,
      "outputs": [
        {
          "output_type": "display_data",
          "data": {
            "text/html": [
              "\n",
              "     <input type=\"file\" id=\"files-4b6bb8f5-19a3-4317-8dc1-3f5dfa62d444\" name=\"files[]\" multiple disabled\n",
              "        style=\"border:none\" />\n",
              "     <output id=\"result-4b6bb8f5-19a3-4317-8dc1-3f5dfa62d444\">\n",
              "      Upload widget is only available when the cell has been executed in the\n",
              "      current browser session. Please rerun this cell to enable.\n",
              "      </output>\n",
              "      <script src=\"/nbextensions/google.colab/files.js\"></script> "
            ],
            "text/plain": [
              "<IPython.core.display.HTML object>"
            ]
          },
          "metadata": {
            "tags": []
          }
        },
        {
          "output_type": "stream",
          "text": [
            "Saving mtRainier.csv to mtRainier.csv\n",
            "Saving test_set.csv to test_set.csv\n"
          ],
          "name": "stdout"
        }
      ]
    },
    {
      "cell_type": "markdown",
      "metadata": {
        "id": "wl82p6mG2gBi",
        "colab_type": "text"
      },
      "source": [
        "## Unfolding of Data\n",
        "Unfoldong of the Mt. Rainier data so that each row\n",
        "contains a sucess variable that is binary, i.e., ‘success=1’ or ‘failure=0’ for each\n",
        "attempt. \n",
        "\n",
        "\n",
        "---\n",
        "\n"
      ]
    },
    {
      "cell_type": "markdown",
      "metadata": {
        "id": "1QhLEpndFO9w",
        "colab_type": "text"
      },
      "source": [
        "Loads cleaned dataset."
      ]
    },
    {
      "cell_type": "code",
      "metadata": {
        "id": "YY4m7rHLEe9n",
        "colab_type": "code",
        "colab": {
          "base_uri": "https://localhost:8080/",
          "height": 254
        },
        "outputId": "99f901d5-0cbc-4ff2-b438-c0b952b7bda3"
      },
      "source": [
        "mtRainier = pd.read_csv('mtRainier.csv', index_col=0)\n",
        "\n",
        "# display data\n",
        "print('Merged climbing statistics and weather dataset.\\n')\n",
        "print('Size:', mtRainier.shape)\n",
        "mtRainier.head()"
      ],
      "execution_count": 3,
      "outputs": [
        {
          "output_type": "stream",
          "text": [
            "Merged climbing statistics and weather dataset.\n",
            "\n",
            "Size: (483, 10)\n"
          ],
          "name": "stdout"
        },
        {
          "output_type": "execute_result",
          "data": {
            "text/html": [
              "<div>\n",
              "<style scoped>\n",
              "    .dataframe tbody tr th:only-of-type {\n",
              "        vertical-align: middle;\n",
              "    }\n",
              "\n",
              "    .dataframe tbody tr th {\n",
              "        vertical-align: top;\n",
              "    }\n",
              "\n",
              "    .dataframe thead th {\n",
              "        text-align: right;\n",
              "    }\n",
              "</style>\n",
              "<table border=\"1\" class=\"dataframe\">\n",
              "  <thead>\n",
              "    <tr style=\"text-align: right;\">\n",
              "      <th></th>\n",
              "      <th>Date</th>\n",
              "      <th>Route</th>\n",
              "      <th>Attempted</th>\n",
              "      <th>Succeeded</th>\n",
              "      <th>Success Percentage</th>\n",
              "      <th>Temperature AVG</th>\n",
              "      <th>Relative Humidity AVG</th>\n",
              "      <th>Wind Speed Daily AVG</th>\n",
              "      <th>Wind Direction AVG</th>\n",
              "      <th>Solar Radiation AVG</th>\n",
              "    </tr>\n",
              "  </thead>\n",
              "  <tbody>\n",
              "    <tr>\n",
              "      <th>0</th>\n",
              "      <td>2014-09-23</td>\n",
              "      <td>Disappointment Cleaver</td>\n",
              "      <td>11</td>\n",
              "      <td>0</td>\n",
              "      <td>0.000000</td>\n",
              "      <td>32.857333</td>\n",
              "      <td>100.000000</td>\n",
              "      <td>65.110667</td>\n",
              "      <td>254.273333</td>\n",
              "      <td>16.593800</td>\n",
              "    </tr>\n",
              "    <tr>\n",
              "      <th>1</th>\n",
              "      <td>2014-09-24</td>\n",
              "      <td>Disappointment Cleaver</td>\n",
              "      <td>12</td>\n",
              "      <td>0</td>\n",
              "      <td>0.000000</td>\n",
              "      <td>29.702917</td>\n",
              "      <td>100.000000</td>\n",
              "      <td>45.915000</td>\n",
              "      <td>278.054167</td>\n",
              "      <td>37.873708</td>\n",
              "    </tr>\n",
              "    <tr>\n",
              "      <th>2</th>\n",
              "      <td>2014-09-25</td>\n",
              "      <td>Disappointment Cleaver</td>\n",
              "      <td>14</td>\n",
              "      <td>8</td>\n",
              "      <td>0.571429</td>\n",
              "      <td>26.823750</td>\n",
              "      <td>99.854167</td>\n",
              "      <td>3.166208</td>\n",
              "      <td>278.604167</td>\n",
              "      <td>142.698917</td>\n",
              "    </tr>\n",
              "    <tr>\n",
              "      <th>3</th>\n",
              "      <td>2014-09-26</td>\n",
              "      <td>Disappointment Cleaver</td>\n",
              "      <td>41</td>\n",
              "      <td>19</td>\n",
              "      <td>0.463415</td>\n",
              "      <td>28.238333</td>\n",
              "      <td>100.000000</td>\n",
              "      <td>0.897625</td>\n",
              "      <td>259.645833</td>\n",
              "      <td>114.400833</td>\n",
              "    </tr>\n",
              "    <tr>\n",
              "      <th>4</th>\n",
              "      <td>2014-09-27</td>\n",
              "      <td>Disappointment Cleaver</td>\n",
              "      <td>44</td>\n",
              "      <td>25</td>\n",
              "      <td>0.568182</td>\n",
              "      <td>33.318750</td>\n",
              "      <td>60.200417</td>\n",
              "      <td>7.140917</td>\n",
              "      <td>116.294583</td>\n",
              "      <td>227.597125</td>\n",
              "    </tr>\n",
              "  </tbody>\n",
              "</table>\n",
              "</div>"
            ],
            "text/plain": [
              "         Date                   Route  ...  Wind Direction AVG  Solar Radiation AVG\n",
              "0  2014-09-23  Disappointment Cleaver  ...          254.273333            16.593800\n",
              "1  2014-09-24  Disappointment Cleaver  ...          278.054167            37.873708\n",
              "2  2014-09-25  Disappointment Cleaver  ...          278.604167           142.698917\n",
              "3  2014-09-26  Disappointment Cleaver  ...          259.645833           114.400833\n",
              "4  2014-09-27  Disappointment Cleaver  ...          116.294583           227.597125\n",
              "\n",
              "[5 rows x 10 columns]"
            ]
          },
          "metadata": {
            "tags": []
          },
          "execution_count": 3
        }
      ]
    },
    {
      "cell_type": "markdown",
      "metadata": {
        "id": "NAuHGMKW3G_E",
        "colab_type": "text"
      },
      "source": [
        "Replace Attempted and Succeeded column with a binary vector of attempts and whether they are successful. Then explode this column of vectors."
      ]
    },
    {
      "cell_type": "code",
      "metadata": {
        "id": "dNfznSsH3LYI",
        "colab_type": "code",
        "colab": {
          "base_uri": "https://localhost:8080/",
          "height": 254
        },
        "outputId": "d87e8c61-2543-4399-b555-b37210faa1d0"
      },
      "source": [
        "def unfold(df):\n",
        "    \"\"\" \n",
        "    Unfolds a dataframe with Succeded and Attempted columns into a dataframe of \n",
        "    attempts and a binary success column.\n",
        "    \"\"\"\n",
        "\n",
        "    def binarise(row):\n",
        "        \"\"\"\n",
        "        Takes a row of a dataframe and uses the Attempted and Succeded values \n",
        "        in the row to create a binary vector of attempts.\n",
        "        \"\"\"\n",
        "\n",
        "        #attempts and successes\n",
        "        att = row['Attempted']\n",
        "        succ = row['Succeeded']\n",
        "\n",
        "        # binary vector of attempts: successful=1, failure=0\n",
        "        binary = np.concatenate((np.ones(succ), np.zeros(att-succ)))\n",
        "        \n",
        "        return binary\n",
        "    \n",
        "    # add a binary column which encapsulates Attempted and Succeeded column\n",
        "    df['Success'] =  df.apply(lambda row: binarise(row), axis=1)\n",
        "\n",
        "    # drop Attempted, Succeeded and Success Percentage columns\n",
        "    df = df.drop(['Attempted', 'Succeeded','Success Percentage'], axis = 1)\n",
        "\n",
        "    # explode the Success column\n",
        "    df = df.explode('Success')\n",
        "\n",
        "    # reset index\n",
        "    df = df.reset_index(drop = True)\n",
        "\n",
        "    return df\n",
        "\n",
        "# unfolds df\n",
        "mtRainier = unfold(mtRainier)\n",
        "\n",
        "# display data\n",
        "print('Updated dataframe.\\n')\n",
        "print('Size:', mtRainier.shape)\n",
        "mtRainier.head()"
      ],
      "execution_count": 4,
      "outputs": [
        {
          "output_type": "stream",
          "text": [
            "Updated dataframe.\n",
            "\n",
            "Size: (10134, 8)\n"
          ],
          "name": "stdout"
        },
        {
          "output_type": "execute_result",
          "data": {
            "text/html": [
              "<div>\n",
              "<style scoped>\n",
              "    .dataframe tbody tr th:only-of-type {\n",
              "        vertical-align: middle;\n",
              "    }\n",
              "\n",
              "    .dataframe tbody tr th {\n",
              "        vertical-align: top;\n",
              "    }\n",
              "\n",
              "    .dataframe thead th {\n",
              "        text-align: right;\n",
              "    }\n",
              "</style>\n",
              "<table border=\"1\" class=\"dataframe\">\n",
              "  <thead>\n",
              "    <tr style=\"text-align: right;\">\n",
              "      <th></th>\n",
              "      <th>Date</th>\n",
              "      <th>Route</th>\n",
              "      <th>Temperature AVG</th>\n",
              "      <th>Relative Humidity AVG</th>\n",
              "      <th>Wind Speed Daily AVG</th>\n",
              "      <th>Wind Direction AVG</th>\n",
              "      <th>Solar Radiation AVG</th>\n",
              "      <th>Success</th>\n",
              "    </tr>\n",
              "  </thead>\n",
              "  <tbody>\n",
              "    <tr>\n",
              "      <th>0</th>\n",
              "      <td>2014-09-23</td>\n",
              "      <td>Disappointment Cleaver</td>\n",
              "      <td>32.857333</td>\n",
              "      <td>100.0</td>\n",
              "      <td>65.110667</td>\n",
              "      <td>254.273333</td>\n",
              "      <td>16.5938</td>\n",
              "      <td>0</td>\n",
              "    </tr>\n",
              "    <tr>\n",
              "      <th>1</th>\n",
              "      <td>2014-09-23</td>\n",
              "      <td>Disappointment Cleaver</td>\n",
              "      <td>32.857333</td>\n",
              "      <td>100.0</td>\n",
              "      <td>65.110667</td>\n",
              "      <td>254.273333</td>\n",
              "      <td>16.5938</td>\n",
              "      <td>0</td>\n",
              "    </tr>\n",
              "    <tr>\n",
              "      <th>2</th>\n",
              "      <td>2014-09-23</td>\n",
              "      <td>Disappointment Cleaver</td>\n",
              "      <td>32.857333</td>\n",
              "      <td>100.0</td>\n",
              "      <td>65.110667</td>\n",
              "      <td>254.273333</td>\n",
              "      <td>16.5938</td>\n",
              "      <td>0</td>\n",
              "    </tr>\n",
              "    <tr>\n",
              "      <th>3</th>\n",
              "      <td>2014-09-23</td>\n",
              "      <td>Disappointment Cleaver</td>\n",
              "      <td>32.857333</td>\n",
              "      <td>100.0</td>\n",
              "      <td>65.110667</td>\n",
              "      <td>254.273333</td>\n",
              "      <td>16.5938</td>\n",
              "      <td>0</td>\n",
              "    </tr>\n",
              "    <tr>\n",
              "      <th>4</th>\n",
              "      <td>2014-09-23</td>\n",
              "      <td>Disappointment Cleaver</td>\n",
              "      <td>32.857333</td>\n",
              "      <td>100.0</td>\n",
              "      <td>65.110667</td>\n",
              "      <td>254.273333</td>\n",
              "      <td>16.5938</td>\n",
              "      <td>0</td>\n",
              "    </tr>\n",
              "  </tbody>\n",
              "</table>\n",
              "</div>"
            ],
            "text/plain": [
              "         Date                   Route  ...  Solar Radiation AVG  Success\n",
              "0  2014-09-23  Disappointment Cleaver  ...              16.5938        0\n",
              "1  2014-09-23  Disappointment Cleaver  ...              16.5938        0\n",
              "2  2014-09-23  Disappointment Cleaver  ...              16.5938        0\n",
              "3  2014-09-23  Disappointment Cleaver  ...              16.5938        0\n",
              "4  2014-09-23  Disappointment Cleaver  ...              16.5938        0\n",
              "\n",
              "[5 rows x 8 columns]"
            ]
          },
          "metadata": {
            "tags": []
          },
          "execution_count": 4
        }
      ]
    },
    {
      "cell_type": "markdown",
      "metadata": {
        "id": "6Hj2xQzZC4Sd",
        "colab_type": "text"
      },
      "source": [
        "## Training and Validation Split\n",
        "\n",
        "This section splits the data into a training, validation split and loads a test dataset. All this data is split into x: predictor, y: class pairs.\n",
        "\n",
        "\n",
        "---\n",
        "\n"
      ]
    },
    {
      "cell_type": "markdown",
      "metadata": {
        "id": "jtYJdGdcXyqa",
        "colab_type": "text"
      },
      "source": [
        "Split into 2 datasets: X of the predictors (weather variables) and y of the binary success classes."
      ]
    },
    {
      "cell_type": "code",
      "metadata": {
        "id": "1EGeIWGWYEEH",
        "colab_type": "code",
        "colab": {}
      },
      "source": [
        "X = mtRainier[[ 'Temperature AVG', 'Relative Humidity AVG',\n",
        "               'Wind Speed Daily AVG', 'Solar Radiation AVG' ]]\n",
        "y = mtRainier['Success']"
      ],
      "execution_count": 5,
      "outputs": []
    },
    {
      "cell_type": "markdown",
      "metadata": {
        "id": "wo41OqGlVBat",
        "colab_type": "text"
      },
      "source": [
        "Split the data into a training set, with 80%, of the rows for the training of the models and a validation set, with 20% of the rows, for the insample validation of the accuracy of the model. The split is stratified in order to enforce a well sampled split in terms of the target 'Success' classes. The training and validation sets are then split into x: predictor, y: class pairs."
      ]
    },
    {
      "cell_type": "code",
      "metadata": {
        "id": "IqC_3n4eU7ps",
        "colab_type": "code",
        "colab": {}
      },
      "source": [
        "# stratified test train split\n",
        "X_train, X_valid, y_train, y_valid = train_test_split(X,\n",
        "                                                      y, \n",
        "                                                      test_size=0.2, \n",
        "                                                      stratify=y, \n",
        "                                                      random_state=0)\n",
        "# convert target to binary\n",
        "y_train = y_train.astype(int)\n",
        "y_valid = y_valid.astype(int)"
      ],
      "execution_count": 6,
      "outputs": []
    },
    {
      "cell_type": "markdown",
      "metadata": {
        "id": "jpWp4GMobFom",
        "colab_type": "text"
      },
      "source": [
        "Normalise the data to produce a common scale for predictors to remove a skew to the importance of 'Solar Radiation' as a predictor."
      ]
    },
    {
      "cell_type": "code",
      "metadata": {
        "id": "XwO34Jcyb-QI",
        "colab_type": "code",
        "colab": {}
      },
      "source": [
        "# scaling function\n",
        "scaler = StandardScaler()\n",
        "\n",
        "# fit scaler\n",
        "scaler.fit(X_train)\n",
        "\n",
        "# transform X_train and X_valid according to this scale\n",
        "X_train = scaler.transform(X_train)\n",
        "X_valid = scaler.transform(X_valid)"
      ],
      "execution_count": 7,
      "outputs": []
    },
    {
      "cell_type": "markdown",
      "metadata": {
        "id": "sjU24YTyUdO4",
        "colab_type": "text"
      },
      "source": [
        "Loads Test dataset an out-of-sample data set of the weather conditions and success percentages from 28-31 December 2018."
      ]
    },
    {
      "cell_type": "code",
      "metadata": {
        "id": "eF72XLvLU1kP",
        "colab_type": "code",
        "colab": {
          "base_uri": "https://localhost:8080/",
          "height": 223
        },
        "outputId": "55c020c2-3c65-49a9-8cc0-748736fb98bc"
      },
      "source": [
        "test = pd.read_csv('test_set.csv')\n",
        "\n",
        "# display data\n",
        "print('Test dataset.\\n')\n",
        "print('Size:', test.shape)\n",
        "test.head()"
      ],
      "execution_count": 8,
      "outputs": [
        {
          "output_type": "stream",
          "text": [
            "Test dataset.\n",
            "\n",
            "Size: (4, 5)\n"
          ],
          "name": "stdout"
        },
        {
          "output_type": "execute_result",
          "data": {
            "text/html": [
              "<div>\n",
              "<style scoped>\n",
              "    .dataframe tbody tr th:only-of-type {\n",
              "        vertical-align: middle;\n",
              "    }\n",
              "\n",
              "    .dataframe tbody tr th {\n",
              "        vertical-align: top;\n",
              "    }\n",
              "\n",
              "    .dataframe thead th {\n",
              "        text-align: right;\n",
              "    }\n",
              "</style>\n",
              "<table border=\"1\" class=\"dataframe\">\n",
              "  <thead>\n",
              "    <tr style=\"text-align: right;\">\n",
              "      <th></th>\n",
              "      <th>Date</th>\n",
              "      <th>Temperature AVG</th>\n",
              "      <th>Relative Humidity AVG</th>\n",
              "      <th>Wind Speed Daily AVG</th>\n",
              "      <th>Solar Radiation AVG</th>\n",
              "    </tr>\n",
              "  </thead>\n",
              "  <tbody>\n",
              "    <tr>\n",
              "      <th>0</th>\n",
              "      <td>12/31/2018</td>\n",
              "      <td>24.062910</td>\n",
              "      <td>58.87083</td>\n",
              "      <td>17.977790</td>\n",
              "      <td>121.91529</td>\n",
              "    </tr>\n",
              "    <tr>\n",
              "      <th>1</th>\n",
              "      <td>12/30/2018</td>\n",
              "      <td>44.631200</td>\n",
              "      <td>53.49383</td>\n",
              "      <td>13.540541</td>\n",
              "      <td>191.19283</td>\n",
              "    </tr>\n",
              "    <tr>\n",
              "      <th>2</th>\n",
              "      <td>12/29/2018</td>\n",
              "      <td>22.614291</td>\n",
              "      <td>60.07291</td>\n",
              "      <td>10.451290</td>\n",
              "      <td>157.10091</td>\n",
              "    </tr>\n",
              "    <tr>\n",
              "      <th>3</th>\n",
              "      <td>12/28/2018</td>\n",
              "      <td>31.687041</td>\n",
              "      <td>70.55791</td>\n",
              "      <td>9.876980</td>\n",
              "      <td>176.24120</td>\n",
              "    </tr>\n",
              "  </tbody>\n",
              "</table>\n",
              "</div>"
            ],
            "text/plain": [
              "         Date  Temperature AVG  ...  Wind Speed Daily AVG  Solar Radiation AVG\n",
              "0  12/31/2018        24.062910  ...             17.977790            121.91529\n",
              "1  12/30/2018        44.631200  ...             13.540541            191.19283\n",
              "2  12/29/2018        22.614291  ...             10.451290            157.10091\n",
              "3  12/28/2018        31.687041  ...              9.876980            176.24120\n",
              "\n",
              "[4 rows x 5 columns]"
            ]
          },
          "metadata": {
            "tags": []
          },
          "execution_count": 8
        }
      ]
    },
    {
      "cell_type": "markdown",
      "metadata": {
        "id": "-x4LhWD3dssX",
        "colab_type": "text"
      },
      "source": [
        "Normalise the test variables."
      ]
    },
    {
      "cell_type": "code",
      "metadata": {
        "id": "QM3EJH-DdxTF",
        "colab_type": "code",
        "colab": {}
      },
      "source": [
        "# scale predictor variables\n",
        "X_test = scaler.transform(test[[ 'Temperature AVG',\n",
        "                                'Relative Humidity AVG',\n",
        "                                'Wind Speed Daily AVG',\n",
        "                                'Solar Radiation AVG' ]])\n",
        "\n",
        "# update test to contain normalised variables\n",
        "test.iloc[:,1:] = X_test"
      ],
      "execution_count": 9,
      "outputs": []
    },
    {
      "cell_type": "markdown",
      "metadata": {
        "id": "cZOGs3qEm7cD",
        "colab_type": "text"
      },
      "source": [
        "## Logistic Regression\n",
        "\n",
        "Logistic regression is a classification method which uses the predictor variables to predict a binary outcome for example a Success (1) or Fail (0).\n",
        "\n",
        "The Logistic regression model is built of the assumption that the log odds are a linear combination of descriptors. That is: $$\\beta_{0} + \\beta_{1} x_{0} + ... \\beta_{p} x_{p} = \\vec{x}^{T} \\cdot \\vec{\\beta} = \\log{\\frac{\\mathbb{P}(y = 1)}{\\mathbb{P}(y = 0)}} = \\log{\\frac{\\mathbb{P}(y = 1)}{1 - \\mathbb{P}(y = 1)}} \\implies \\mathbb{P}(y = 1) = \\frac{1}{1 + \\exp{-\\vec{x}^{T} \\cdot \\vec{\\beta}}} = h_{\\vec{\\beta}}(\\vec{x})$$\n",
        "\n",
        "Using this we can then model $\\mathbb{P}(Y=y; \\vec{x}, \\vec{\\beta}) = h_{\\vec{\\beta}}(\\vec{x})^{y}(1 - h_{\\vec{\\beta}}(\\vec{x}))^{1-y}$ then assuming independence between our samples then taking logs we can obatain the maximum likelihood cost function which we'd like to minimise of: \n",
        "\n",
        "$$L = -\\sum\\limits_{i}^{N} y_{i} \\log{(h_{\\vec{\\beta}}(\\vec{x}_{i}))} + (1- y_{i}) \\log{(1 - h_{\\vec{\\beta}}(\\vec{x}_{i}))} $$ \n",
        "\n",
        "When optimised we can class an outcome as a success if the probability is above a decision boundary $T$ which is generally set as T = 1/2. \n",
        "\n",
        "$$y_{pred} = 1 \\iff \\mathbb{P}(y = 1)  = h_{\\vec{\\beta^{*}}}(\\vec{x}) > T $$\n",
        "\n",
        "\n",
        "---\n",
        "\n",
        "\n",
        "\n"
      ]
    },
    {
      "cell_type": "markdown",
      "metadata": {
        "id": "9Ei6nohp9XQ1",
        "colab_type": "text"
      },
      "source": [
        "I trained a logistic regression classifier on the training data with the weather variables ‘Temperature’, ‘Relative Humidity’, ‘Wind Speed Daily’ and ‘Solar Radiation’ as features and the binary success of summiting Mount Rainier as the output with a decsiion boundary of T = 1/2. \n",
        "\n",
        "Initialise model."
      ]
    },
    {
      "cell_type": "code",
      "metadata": {
        "id": "ab-nTNZtvM28",
        "colab_type": "code",
        "colab": {}
      },
      "source": [
        "# create model\n",
        "Log_model = LogisticRegression()"
      ],
      "execution_count": 10,
      "outputs": []
    },
    {
      "cell_type": "markdown",
      "metadata": {
        "id": "d0NckMym9jEO",
        "colab_type": "text"
      },
      "source": [
        "Fit model."
      ]
    },
    {
      "cell_type": "code",
      "metadata": {
        "id": "ItpGM44F9iOJ",
        "colab_type": "code",
        "colab": {
          "base_uri": "https://localhost:8080/",
          "height": 104
        },
        "outputId": "d2f9ada0-4cbe-4932-e9f8-abcb8c4adae6"
      },
      "source": [
        "#fits model\n",
        "Log_model.fit(X_train, y_train)"
      ],
      "execution_count": 11,
      "outputs": [
        {
          "output_type": "execute_result",
          "data": {
            "text/plain": [
              "LogisticRegression(C=1.0, class_weight=None, dual=False, fit_intercept=True,\n",
              "                   intercept_scaling=1, l1_ratio=None, max_iter=100,\n",
              "                   multi_class='auto', n_jobs=None, penalty='l2',\n",
              "                   random_state=None, solver='lbfgs', tol=0.0001, verbose=0,\n",
              "                   warm_start=False)"
            ]
          },
          "metadata": {
            "tags": []
          },
          "execution_count": 11
        }
      ]
    },
    {
      "cell_type": "markdown",
      "metadata": {
        "id": "1FdBT1JiPaqi",
        "colab_type": "text"
      },
      "source": [
        "The probability of a succcessful summit from the validation set."
      ]
    },
    {
      "cell_type": "code",
      "metadata": {
        "id": "kQ5PKJAmP1ua",
        "colab_type": "code",
        "colab": {
          "base_uri": "https://localhost:8080/",
          "height": 35
        },
        "outputId": "76a70605-8bd6-46fd-9314-095861fad690"
      },
      "source": [
        "#makes predictions on validation set\n",
        "pred_valid = Log_model.predict(X_valid)\n",
        "\n",
        "#number of succesful attempts\n",
        "successes = np.sum(pred_valid)\n",
        "\n",
        "#number of attempts\n",
        "attempts = len(pred_valid)\n",
        "\n",
        "#success probability\n",
        "prob = 100*successes/attempts\n",
        "\n",
        "print('The probablity to to successfully summit on the validation data is ' \\\n",
        "      '%.2f'%prob + '%.')"
      ],
      "execution_count": 12,
      "outputs": [
        {
          "output_type": "stream",
          "text": [
            "The probablity to to successfully summit on the validation data is 57.08%.\n"
          ],
          "name": "stdout"
        }
      ]
    },
    {
      "cell_type": "markdown",
      "metadata": {
        "id": "pH2qlZ2PXlA4",
        "colab_type": "text"
      },
      "source": [
        "The quality of the model is then quantified. All the  measures below are calculated where a score of 1 is the best case and 0 worse.\n",
        "\n",
        "**Accuracy:** The percentage of correct predictions.\n",
        "\n",
        "**Confusion Matrix:** Matrix of predictions. Where the columns are the True labels and the rows are the predicted.\n",
        "\n",
        "|   | 1 | 0 |\n",
        "|---|---|---|\n",
        "| 1 | TP| FP|\n",
        "| 0 | FN| TN|\n",
        "\n",
        "**Precision:** Precision is the ratio $\\frac{TP}{TP + FP}$ this is intutitively the ability of a classifier not to label a negative sample as positive. \n",
        "\n",
        "**Recall:** Recall is the ratio $\\frac{TP}{TP + FN}$ this is intutitively the ability of a classifier to find all positive samples.\n",
        "\n",
        "**F1 Score:**\n",
        "The F1 score can be interpreted as a weighted average of the precision and recall. $$F1 = 2 \\frac{precision \\times recall}{precision + recall}$$\n",
        "\n",
        "**Receiver operating characteristic (ROC):** The ROC curve is created by plotting the fraction of true positives out of the positives (TPR = true positive rate) vs. the fraction of false positives out of the negatives (FPR = false positive rate), at various threshold settings.\n",
        "\n",
        "\n"
      ]
    },
    {
      "cell_type": "code",
      "metadata": {
        "id": "A41O2UbXfhI8",
        "colab_type": "code",
        "colab": {}
      },
      "source": [
        "def quality(X, y, model, name, dataset):\n",
        "    \"\"\"\n",
        "    Function which returns quality measures of a supervised classification of a\n",
        "    binary outcome.\n",
        "    Inputs:\n",
        "        X: Predictor dataset.\n",
        "        y: Binary outcome datset.\n",
        "        model: Fitted classification model. \n",
        "        name: Name of model.\n",
        "        dataset: Training, Test or Validation quality.\n",
        "    \"\"\"\n",
        "    #makes predictions on training set\n",
        "    pred = model.predict(X)\n",
        "\n",
        "    # accuracy metrics\n",
        "    acc = metrics.accuracy_score(y, pred)\n",
        "    pre = metrics.precision_score(y, pred)\n",
        "    recall = metrics.recall_score(y, pred)\n",
        "    F1 = metrics.f1_score(y, pred)\n",
        "    mat = metrics.confusion_matrix(y, pred, labels=[1, 0])\n",
        "\n",
        "    print('The ' + dataset + ' accuracy of ' + name + ' is %.2f.'%acc)\n",
        "    print('The ' + dataset + ' precision of ' + name + ' is %.2f.'%pre)\n",
        "    print('The ' + dataset + ' recall of ' + name + ' is %.2f.'%recall)\n",
        "    print('The ' + dataset + ' F1 of ' + name + ' is %.2f.\\n'%F1)\n",
        "\n",
        "    # confusion matrix\n",
        "    ax = sns.heatmap(mat.T, annot=True,fmt='.0f',cbar=False,\n",
        "                    xticklabels=[1, 0], yticklabels=[1, 0])\n",
        "    ax.tick_params(axis='both', which='major',labelbottom = False,\n",
        "                  bottom=False, top = False, labeltop=True)\n",
        "    ax.set_ylabel('Predicted')\n",
        "    ax.xaxis.set_label_position('top')\n",
        "    ax.set_xlabel('True')\n",
        "    ax.set_title('Confusion Martix')\n",
        "    plt.show()\n",
        "    return"
      ],
      "execution_count": 13,
      "outputs": []
    },
    {
      "cell_type": "markdown",
      "metadata": {
        "id": "4iHeURZ3-c9_",
        "colab_type": "text"
      },
      "source": [
        "Quality of predictions on training set."
      ]
    },
    {
      "cell_type": "code",
      "metadata": {
        "id": "RDu2EUWx-3Py",
        "colab_type": "code",
        "colab": {
          "base_uri": "https://localhost:8080/",
          "height": 385
        },
        "outputId": "405e5fe4-83a9-48cc-a2c3-f0d275b3a3dc"
      },
      "source": [
        "quality(X_train, y_train, Log_model, 'Logistic Regression', 'training')"
      ],
      "execution_count": 14,
      "outputs": [
        {
          "output_type": "stream",
          "text": [
            "The training accuracy of Logistic Regression is 0.61.\n",
            "The training precision of Logistic Regression is 0.58.\n",
            "The training recall of Logistic Regression is 0.68.\n",
            "The training F1 of Logistic Regression is 0.62.\n",
            "\n"
          ],
          "name": "stdout"
        },
        {
          "output_type": "display_data",
          "data": {
            "image/png": "[encoded data removed]",
            "text/plain": [
              "<Figure size 432x288 with 1 Axes>"
            ]
          },
          "metadata": {
            "tags": [],
            "needs_background": "light"
          }
        }
      ]
    },
    {
      "cell_type": "markdown",
      "metadata": {
        "id": "dCWjJsE7_Mbf",
        "colab_type": "text"
      },
      "source": [
        "Quality of predictions on validation set."
      ]
    },
    {
      "cell_type": "code",
      "metadata": {
        "id": "FOchE3TJ_Tpu",
        "colab_type": "code",
        "colab": {
          "base_uri": "https://localhost:8080/",
          "height": 385
        },
        "outputId": "7ef78666-85e8-424c-bb6d-d5438c49d0c1"
      },
      "source": [
        "quality(X_valid, y_valid, Log_model, 'Logistic Regression', 'validation')"
      ],
      "execution_count": 15,
      "outputs": [
        {
          "output_type": "stream",
          "text": [
            "The validation accuracy of Logistic Regression is 0.61.\n",
            "The validation precision of Logistic Regression is 0.58.\n",
            "The validation recall of Logistic Regression is 0.69.\n",
            "The validation F1 of Logistic Regression is 0.63.\n",
            "\n"
          ],
          "name": "stdout"
        },
        {
          "output_type": "display_data",
          "data": {
            "image/png": "[encoded data removed]",
            "text/plain": [
              "<Figure size 432x288 with 1 Axes>"
            ]
          },
          "metadata": {
            "tags": [],
            "needs_background": "light"
          }
        }
      ]
    },
    {
      "cell_type": "markdown",
      "metadata": {
        "id": "M_HGCjXFBVEa",
        "colab_type": "text"
      },
      "source": [
        "Roc curve comparision of training and validation set."
      ]
    },
    {
      "cell_type": "code",
      "metadata": {
        "id": "Tmjz2zrPBtgI",
        "colab_type": "code",
        "colab": {
          "base_uri": "https://localhost:8080/",
          "height": 629
        },
        "outputId": "95a1bc44-8020-4640-bf27-7d83b9012a94"
      },
      "source": [
        "# obtain prediction probablilities\n",
        "probs_train = Log_model.predict_proba(X_train)[:, 1]\n",
        "probs_valid = Log_model.predict_proba(X_valid)[:, 1]\n",
        "\n",
        "# obtain TPR, FPR an AUC for training and validation data.\n",
        "fpr_train, tpr_train, _ = metrics.roc_curve(y_train, probs_train)\n",
        "auc_train = metrics.roc_auc_score(y_train, probs_train)\n",
        "fpr_valid, tpr_valid, _ = metrics.roc_curve(y_valid, probs_valid)\n",
        "auc_valid = metrics.roc_auc_score(y_valid, probs_valid)\n",
        "\n",
        "# plot results\n",
        "fig = plt.figure(figsize=(10, 10))\n",
        "plt.title('Roc Curve for Logistic Regression (Fig.1)', fontsize='15')\n",
        "plt.xlabel('FPR')\n",
        "plt.ylabel('TPR')\n",
        "plt.plot(fpr_train, tpr_train, label='Training Data (AUC = %.2f)'%auc_train)\n",
        "plt.plot(fpr_valid, tpr_valid, label='Validation Data (AUC = %.2f)'%auc_valid)\n",
        "plt.plot([0, 1], [0, 1], linestyle= '--', label='Random (AUC = 0.5)')\n",
        "plt.legend()\n",
        "plt.show()"
      ],
      "execution_count": 16,
      "outputs": [
        {
          "output_type": "display_data",
          "data": {
            "image/png": "[encoded data removed]",
            "text/plain": [
              "<Figure size 720x720 with 1 Axes>"
            ]
          },
          "metadata": {
            "tags": [],
            "needs_background": "light"
          }
        }
      ]
    },
    {
      "cell_type": "markdown",
      "metadata": {
        "id": "v9ly7tzLGBbn",
        "colab_type": "text"
      },
      "source": [
        "The performance on both the training and validation set seems to be very similar which inicates the model has been well fitted. Most the scores are of the order of 0.6 which suggests that the model is performing slightly better than random. We have a relatively high recall and low precision which indicates a slight overprediction of success with many FP although we do manage to find a large proportion of TP with this model."
      ]
    },
    {
      "cell_type": "markdown",
      "metadata": {
        "id": "TLr7lansJG5K",
        "colab_type": "text"
      },
      "source": [
        "## Naive-Bayes\n",
        "\n",
        "The Naive-Bayes classifier, takes a set of predictors and from this makes a prediction to which class the sample is in.\n",
        "\n",
        "It is based on Bayes' Theorem:\n",
        "\n",
        "$$\\mathbb{P}(Y = y|X = \\vec{x}) = \\frac{\\mathbb{P}(X = \\vec{x}| Y = y) \\mathbb{P}(Y=y)}{\\mathbb{P}(X = \\vec{x})}$$\n",
        "\n",
        "With the assumptions that:\n",
        "\n",
        "$$\\mathbb{P}(Y = y) = \\frac{1}{N} \\sum\\limits_{i=1}^{N} I(y_{i} = y)$$ where $I(A)$ is the inidicator of being A. This is the frequency of each class in the training set. \n",
        "\n",
        "$$\\mathbb{P}(X = \\vec{x}| Y = y) = \\prod\\limits_{j = 1}^{p} \\mathbb{P}(X_{j} = x_{j} | Y = y)$$ the Naive assumption that the despriptors are independent of eachother. This is wrong but often works. This is found by estimating from the data set.\n",
        "\n",
        "With the following estimation with Laplace smoothing to solve the issue of 0 probablity $Q$ is the number of classes.\n",
        "$$\\mathbb{P}(X_{j} = x_{j} | Y = y) = \\frac{[\\sum\\limits_{i=1}^{N} I(X_{j}^{i} = x_{j} \\wedge y_{i} = y)] + \\lambda}{[\\sum\\limits_{i=1}^{N} I(y_{i} = y)] + \\lambda Q}$$ \n",
        "\n",
        "\n",
        "$$\\mathbb{P}(X = \\vec{x}) = \\sum\\limits_{q=1}^{Q} \\mathbb{P}(X = \\vec{x} | Y = y_{q}) \\mathbb{P}(Y = y_{q}) $$ by the law of total probability.\n",
        "\n",
        "We can use this to find a vector of probabilities to be in ecah class, the prediction made be Naive-Bayes is the arg maximum of this vector. That is the outcome is the class with the highest probability.\n",
        "\n",
        "$$\\mathbb{P}(X = \\vec{x}| Y = y)$$ can also be estimated by assuming a Gaussian Distribution with a sampled mean and variance. \n",
        "\n",
        "---\n",
        "\n"
      ]
    },
    {
      "cell_type": "markdown",
      "metadata": {
        "id": "7DKU4RLZfg0Y",
        "colab_type": "text"
      },
      "source": [
        "I trained a Naive-Bayes classifier on the training data with the weather variables ‘Temperature’, ‘Relative Humidity’, ‘Wind Speed Daily’ and ‘Solar Radiation’ as features and the binary success of summiting Mount Rainier as the output. \n",
        "\n",
        "Initialise model."
      ]
    },
    {
      "cell_type": "code",
      "metadata": {
        "id": "9KwXfuHeJGMC",
        "colab_type": "code",
        "colab": {
          "base_uri": "https://localhost:8080/",
          "height": 35
        },
        "outputId": "ba30d356-def1-4378-db3f-b19395d15be6"
      },
      "source": [
        "NB_model = GaussianNB()\n",
        "NB_model.fit(X_train, y_train)"
      ],
      "execution_count": 17,
      "outputs": [
        {
          "output_type": "execute_result",
          "data": {
            "text/plain": [
              "GaussianNB(priors=None, var_smoothing=1e-09)"
            ]
          },
          "metadata": {
            "tags": []
          },
          "execution_count": 17
        }
      ]
    },
    {
      "cell_type": "markdown",
      "metadata": {
        "colab_type": "text",
        "id": "gu3n_3GfiDpT"
      },
      "source": [
        "Fit model."
      ]
    },
    {
      "cell_type": "code",
      "metadata": {
        "colab_type": "code",
        "id": "6B1Z5WZIiDpU",
        "colab": {
          "base_uri": "https://localhost:8080/",
          "height": 35
        },
        "outputId": "dae48737-050a-4dab-bf49-3c3b750abdca"
      },
      "source": [
        "#fits model\n",
        "NB_model.fit(X_train, y_train)"
      ],
      "execution_count": 18,
      "outputs": [
        {
          "output_type": "execute_result",
          "data": {
            "text/plain": [
              "GaussianNB(priors=None, var_smoothing=1e-09)"
            ]
          },
          "metadata": {
            "tags": []
          },
          "execution_count": 18
        }
      ]
    },
    {
      "cell_type": "markdown",
      "metadata": {
        "colab_type": "text",
        "id": "qM_jRBQiiDpY"
      },
      "source": [
        "The probability of a succcessful summit from the validation set."
      ]
    },
    {
      "cell_type": "code",
      "metadata": {
        "colab_type": "code",
        "id": "WNkIznzCiDpZ",
        "colab": {
          "base_uri": "https://localhost:8080/",
          "height": 35
        },
        "outputId": "188c6e05-9ea7-4a71-dd64-32122dcc2e2e"
      },
      "source": [
        "#makes predictions on validation set\n",
        "pred_valid = NB_model.predict(X_valid)\n",
        "\n",
        "#number of succesful attempts\n",
        "successes = np.sum(pred_valid)\n",
        "\n",
        "#number of attempts\n",
        "attempts = len(pred_valid)\n",
        "\n",
        "#success probability\n",
        "prob = 100*successes/attempts\n",
        "\n",
        "print('The probablity to to successfully summit on the validation data is ' \\\n",
        "      '%.2f'%prob + '%.')"
      ],
      "execution_count": 19,
      "outputs": [
        {
          "output_type": "stream",
          "text": [
            "The probablity to to successfully summit on the validation data is 70.00%.\n"
          ],
          "name": "stdout"
        }
      ]
    },
    {
      "cell_type": "markdown",
      "metadata": {
        "colab_type": "text",
        "id": "h4gol5XviDpd"
      },
      "source": [
        "Quality of predictions on training set."
      ]
    },
    {
      "cell_type": "code",
      "metadata": {
        "colab_type": "code",
        "id": "kZWMYLNTiDpd",
        "colab": {
          "base_uri": "https://localhost:8080/",
          "height": 385
        },
        "outputId": "4073386f-1e68-4491-d182-02ace5a7c92b"
      },
      "source": [
        "quality(X_train, y_train, NB_model, 'Naive-Bayes', 'training')"
      ],
      "execution_count": 20,
      "outputs": [
        {
          "output_type": "stream",
          "text": [
            "The training accuracy of Naive-Bayes is 0.57.\n",
            "The training precision of Naive-Bayes is 0.54.\n",
            "The training recall of Naive-Bayes is 0.78.\n",
            "The training F1 of Naive-Bayes is 0.64.\n",
            "\n"
          ],
          "name": "stdout"
        },
        {
          "output_type": "display_data",
          "data": {
            "image/png": "[encoded data removed]",
            "text/plain": [
              "<Figure size 432x288 with 1 Axes>"
            ]
          },
          "metadata": {
            "tags": [],
            "needs_background": "light"
          }
        }
      ]
    },
    {
      "cell_type": "markdown",
      "metadata": {
        "colab_type": "text",
        "id": "bPV3MsGEiDpg"
      },
      "source": [
        "Quality of predictions on validation set."
      ]
    },
    {
      "cell_type": "code",
      "metadata": {
        "colab_type": "code",
        "id": "wzUlEkGJiDph",
        "colab": {
          "base_uri": "https://localhost:8080/",
          "height": 385
        },
        "outputId": "c9c144e0-6ee4-4e53-ab95-aebdabb19744"
      },
      "source": [
        "quality(X_valid, y_valid, NB_model, 'Naive-Bayes', 'validation')"
      ],
      "execution_count": 23,
      "outputs": [
        {
          "output_type": "stream",
          "text": [
            "The validation accuracy of Naive-Bayes is 0.58.\n",
            "The validation precision of Naive-Bayes is 0.54.\n",
            "The validation recall of Naive-Bayes is 0.79.\n",
            "The validation F1 of Naive-Bayes is 0.64.\n",
            "\n"
          ],
          "name": "stdout"
        },
        {
          "output_type": "display_data",
          "data": {
            "image/png": "[encoded data removed]",
            "text/plain": [
              "<Figure size 432x288 with 1 Axes>"
            ]
          },
          "metadata": {
            "tags": [],
            "needs_background": "light"
          }
        }
      ]
    },
    {
      "cell_type": "markdown",
      "metadata": {
        "colab_type": "text",
        "id": "lB3WLjEKiDpl"
      },
      "source": [
        "Roc curve comparision of training and validation set."
      ]
    },
    {
      "cell_type": "code",
      "metadata": {
        "colab_type": "code",
        "id": "FI4ZA7lLiDpl",
        "colab": {
          "base_uri": "https://localhost:8080/",
          "height": 629
        },
        "outputId": "a206615d-60d9-464e-b2da-5319322508d7"
      },
      "source": [
        "# obtain prediction probablilities\n",
        "probs_train = NB_model.predict_proba(X_train)[:, 1]\n",
        "probs_valid = NB_model.predict_proba(X_valid)[:, 1]\n",
        "\n",
        "# obtain TPR, FPR an AUC for training and validation data.\n",
        "fpr_train, tpr_train, _ = metrics.roc_curve(y_train, probs_train)\n",
        "auc_train = metrics.roc_auc_score(y_train, probs_train)\n",
        "fpr_valid, tpr_valid, _ = metrics.roc_curve(y_valid, probs_valid)\n",
        "auc_valid = metrics.roc_auc_score(y_valid, probs_valid)\n",
        "\n",
        "# plot results\n",
        "fig = plt.figure(figsize=(10, 10))\n",
        "plt.title('Roc Curve for Naive-Bayes (Fig.2)', fontsize='15')\n",
        "plt.xlabel('FPR')\n",
        "plt.ylabel('TPR')\n",
        "plt.plot(fpr_train, tpr_train, label='Training Data (AUC = %.2f)'%auc_train)\n",
        "plt.plot(fpr_valid, tpr_valid, label='Validation Data (AUC = %.2f)'%auc_valid)\n",
        "plt.plot([0, 1], [0, 1], linestyle= '--', label='Random (AUC = 0.5)')\n",
        "plt.legend()\n",
        "plt.show()"
      ],
      "execution_count": 22,
      "outputs": [
        {
          "output_type": "display_data",
          "data": {
            "image/png": "[encoded data removed]",
            "text/plain": [
              "<Figure size 720x720 with 1 Axes>"
            ]
          },
          "metadata": {
            "tags": [],
            "needs_background": "light"
          }
        }
      ]
    },
    {
      "cell_type": "markdown",
      "metadata": {
        "id": "hDS_Recaip4S",
        "colab_type": "text"
      },
      "source": [
        "Once again the performance on both the training and validation set seem to be very similar which inicates the model has been well fitted. Most the scores are of the order of 0.6 which suggests that the model is performing slightly better than random. We have a relatively high recall and low precision which indicates a slight overprediction of success with many FP although we do manage to find a large proportion of TP with this model.\n",
        "\n",
        "In comparision to Logistic regression, Naive-Bayes performs noticeably worse. This is most likely down to the flawed Naive assumption of independence of descriptors which in this case was shown in the data exploration to be untrue with Temperature, Humidity and Solar Radiation being highly correlated.\n",
        "\n",
        "All these arguments can be made considerably more robust through the use of cross-validation."
      ]
    }
  ]
}